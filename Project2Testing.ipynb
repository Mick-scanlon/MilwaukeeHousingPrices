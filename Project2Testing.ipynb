{
 "cells": [
  {
   "cell_type": "code",
   "execution_count": 1,
   "id": "6300a44b",
   "metadata": {},
   "outputs": [],
   "source": [
    "import math, statistics\n",
    "import pandas as pd\n",
    "import numpy as np\n",
    "from sklearn.linear_model import LinearRegression\n",
    "import matplotlib.pyplot as plt\n",
    "from sklearn.model_selection import train_test_split"
   ]
  },
  {
   "cell_type": "markdown",
   "id": "e85723a7",
   "metadata": {},
   "source": [
    "# Data PreProcessing"
   ]
  },
  {
   "cell_type": "code",
   "execution_count": 2,
   "id": "5ada1f95",
   "metadata": {},
   "outputs": [
    {
     "data": {
      "text/html": [
       "<div>\n",
       "<style scoped>\n",
       "    .dataframe tbody tr th:only-of-type {\n",
       "        vertical-align: middle;\n",
       "    }\n",
       "\n",
       "    .dataframe tbody tr th {\n",
       "        vertical-align: top;\n",
       "    }\n",
       "\n",
       "    .dataframe thead th {\n",
       "        text-align: right;\n",
       "    }\n",
       "</style>\n",
       "<table border=\"1\" class=\"dataframe\">\n",
       "  <thead>\n",
       "    <tr style=\"text-align: right;\">\n",
       "      <th></th>\n",
       "      <th>PropType</th>\n",
       "      <th>Taxkey</th>\n",
       "      <th>Address</th>\n",
       "      <th>CondoProject</th>\n",
       "      <th>District</th>\n",
       "      <th>Nbhd</th>\n",
       "      <th>Style</th>\n",
       "      <th>Extwall</th>\n",
       "      <th>Stories</th>\n",
       "      <th>Year_Built</th>\n",
       "      <th>Nr_of_rms</th>\n",
       "      <th>Fin_sqft</th>\n",
       "      <th>Units</th>\n",
       "      <th>Bdrms</th>\n",
       "      <th>Fbath</th>\n",
       "      <th>Hbath</th>\n",
       "      <th>Lotsize</th>\n",
       "      <th>Sale_date</th>\n",
       "      <th>Sale_price</th>\n",
       "    </tr>\n",
       "  </thead>\n",
       "  <tbody>\n",
       "    <tr>\n",
       "      <th>0</th>\n",
       "      <td>Commercial</td>\n",
       "      <td>3230461110</td>\n",
       "      <td>2628 N 6TH ST</td>\n",
       "      <td>NaN</td>\n",
       "      <td>6</td>\n",
       "      <td>6258</td>\n",
       "      <td>Commercial Exempt</td>\n",
       "      <td>NaN</td>\n",
       "      <td>2.0</td>\n",
       "      <td>1880</td>\n",
       "      <td>0</td>\n",
       "      <td>1840</td>\n",
       "      <td>1</td>\n",
       "      <td>0</td>\n",
       "      <td>0</td>\n",
       "      <td>0</td>\n",
       "      <td>12750</td>\n",
       "      <td>2002-01</td>\n",
       "      <td>15900</td>\n",
       "    </tr>\n",
       "    <tr>\n",
       "      <th>1</th>\n",
       "      <td>Commercial</td>\n",
       "      <td>3590192000</td>\n",
       "      <td>1363 N PROSPECT AV</td>\n",
       "      <td>NaN</td>\n",
       "      <td>3</td>\n",
       "      <td>6262</td>\n",
       "      <td>Mansions With Commercial Usage</td>\n",
       "      <td>NaN</td>\n",
       "      <td>2.0</td>\n",
       "      <td>1876</td>\n",
       "      <td>0</td>\n",
       "      <td>6377</td>\n",
       "      <td>1</td>\n",
       "      <td>0</td>\n",
       "      <td>0</td>\n",
       "      <td>0</td>\n",
       "      <td>11840</td>\n",
       "      <td>2002-01</td>\n",
       "      <td>850000</td>\n",
       "    </tr>\n",
       "    <tr>\n",
       "      <th>2</th>\n",
       "      <td>Commercial</td>\n",
       "      <td>4161194000</td>\n",
       "      <td>617 S 94TH ST</td>\n",
       "      <td>NaN</td>\n",
       "      <td>10</td>\n",
       "      <td>6272</td>\n",
       "      <td>Service Building</td>\n",
       "      <td>NaN</td>\n",
       "      <td>1.0</td>\n",
       "      <td>1954</td>\n",
       "      <td>0</td>\n",
       "      <td>5022</td>\n",
       "      <td>1</td>\n",
       "      <td>0</td>\n",
       "      <td>0</td>\n",
       "      <td>0</td>\n",
       "      <td>9700</td>\n",
       "      <td>2002-01</td>\n",
       "      <td>119000</td>\n",
       "    </tr>\n",
       "    <tr>\n",
       "      <th>3</th>\n",
       "      <td>Commercial</td>\n",
       "      <td>1719836000</td>\n",
       "      <td>3624 W SILVER SPRING DR</td>\n",
       "      <td>NaN</td>\n",
       "      <td>1</td>\n",
       "      <td>6218</td>\n",
       "      <td>Store Bldg - Multi Story (Store &amp; Apt, Store &amp; O</td>\n",
       "      <td>NaN</td>\n",
       "      <td>2.0</td>\n",
       "      <td>1955</td>\n",
       "      <td>0</td>\n",
       "      <td>6420</td>\n",
       "      <td>1</td>\n",
       "      <td>0</td>\n",
       "      <td>0</td>\n",
       "      <td>0</td>\n",
       "      <td>8792</td>\n",
       "      <td>2002-01</td>\n",
       "      <td>210000</td>\n",
       "    </tr>\n",
       "    <tr>\n",
       "      <th>4</th>\n",
       "      <td>Commercial</td>\n",
       "      <td>3480290000</td>\n",
       "      <td>3830 W LISBON AV</td>\n",
       "      <td>NaN</td>\n",
       "      <td>15</td>\n",
       "      <td>6254</td>\n",
       "      <td>Store Bldg - Multi Story (Store &amp; Apt, Store &amp; O</td>\n",
       "      <td>NaN</td>\n",
       "      <td>2.0</td>\n",
       "      <td>1909</td>\n",
       "      <td>0</td>\n",
       "      <td>5956</td>\n",
       "      <td>1</td>\n",
       "      <td>0</td>\n",
       "      <td>0</td>\n",
       "      <td>0</td>\n",
       "      <td>4840</td>\n",
       "      <td>2002-01</td>\n",
       "      <td>48500</td>\n",
       "    </tr>\n",
       "  </tbody>\n",
       "</table>\n",
       "</div>"
      ],
      "text/plain": [
       "     PropType      Taxkey                  Address CondoProject  District  \\\n",
       "0  Commercial  3230461110            2628 N 6TH ST          NaN         6   \n",
       "1  Commercial  3590192000       1363 N PROSPECT AV          NaN         3   \n",
       "2  Commercial  4161194000            617 S 94TH ST          NaN        10   \n",
       "3  Commercial  1719836000  3624 W SILVER SPRING DR          NaN         1   \n",
       "4  Commercial  3480290000         3830 W LISBON AV          NaN        15   \n",
       "\n",
       "   Nbhd                                             Style Extwall  Stories  \\\n",
       "0  6258                                 Commercial Exempt     NaN      2.0   \n",
       "1  6262                    Mansions With Commercial Usage     NaN      2.0   \n",
       "2  6272                                  Service Building     NaN      1.0   \n",
       "3  6218  Store Bldg - Multi Story (Store & Apt, Store & O     NaN      2.0   \n",
       "4  6254  Store Bldg - Multi Story (Store & Apt, Store & O     NaN      2.0   \n",
       "\n",
       "   Year_Built  Nr_of_rms  Fin_sqft  Units  Bdrms  Fbath  Hbath  Lotsize  \\\n",
       "0        1880          0      1840      1      0      0      0    12750   \n",
       "1        1876          0      6377      1      0      0      0    11840   \n",
       "2        1954          0      5022      1      0      0      0     9700   \n",
       "3        1955          0      6420      1      0      0      0     8792   \n",
       "4        1909          0      5956      1      0      0      0     4840   \n",
       "\n",
       "  Sale_date  Sale_price  \n",
       "0   2002-01       15900  \n",
       "1   2002-01      850000  \n",
       "2   2002-01      119000  \n",
       "3   2002-01      210000  \n",
       "4   2002-01       48500  "
      ]
     },
     "execution_count": 2,
     "metadata": {},
     "output_type": "execute_result"
    }
   ],
   "source": [
    "housingdata = pd.read_csv(\"PropertySalesMaster.csv\")\n",
    "housingdata.head()"
   ]
  },
  {
   "cell_type": "code",
   "execution_count": 3,
   "id": "2ceef069",
   "metadata": {},
   "outputs": [],
   "source": [
    "# remove NA's from target\n",
    "housingdata = housingdata[housingdata['Sale_price'].isnull() == False] "
   ]
  },
  {
   "cell_type": "code",
   "execution_count": 4,
   "id": "48e19d1b",
   "metadata": {},
   "outputs": [],
   "source": [
    "# remove extreme outliers\n",
    "housingdata = housingdata[housingdata['Sale_price'] <= 1200000]"
   ]
  },
  {
   "cell_type": "code",
   "execution_count": 5,
   "id": "ebb31339",
   "metadata": {},
   "outputs": [
    {
     "data": {
      "text/html": [
       "<div>\n",
       "<style scoped>\n",
       "    .dataframe tbody tr th:only-of-type {\n",
       "        vertical-align: middle;\n",
       "    }\n",
       "\n",
       "    .dataframe tbody tr th {\n",
       "        vertical-align: top;\n",
       "    }\n",
       "\n",
       "    .dataframe thead th {\n",
       "        text-align: right;\n",
       "    }\n",
       "</style>\n",
       "<table border=\"1\" class=\"dataframe\">\n",
       "  <thead>\n",
       "    <tr style=\"text-align: right;\">\n",
       "      <th></th>\n",
       "      <th>PropType</th>\n",
       "      <th>Taxkey</th>\n",
       "      <th>Address</th>\n",
       "      <th>CondoProject</th>\n",
       "      <th>District</th>\n",
       "      <th>Nbhd</th>\n",
       "      <th>Style</th>\n",
       "      <th>Extwall</th>\n",
       "      <th>Stories</th>\n",
       "      <th>Year_Built</th>\n",
       "      <th>Nr_of_rms</th>\n",
       "      <th>Fin_sqft</th>\n",
       "      <th>Units</th>\n",
       "      <th>Bdrms</th>\n",
       "      <th>Fbath</th>\n",
       "      <th>Hbath</th>\n",
       "      <th>Lotsize</th>\n",
       "      <th>Sale_date</th>\n",
       "      <th>Sale_price</th>\n",
       "    </tr>\n",
       "  </thead>\n",
       "  <tbody>\n",
       "    <tr>\n",
       "      <th>10</th>\n",
       "      <td>Residential</td>\n",
       "      <td>3080013000</td>\n",
       "      <td>3033 N 35TH ST</td>\n",
       "      <td>NaN</td>\n",
       "      <td>7</td>\n",
       "      <td>2960</td>\n",
       "      <td>AP 1</td>\n",
       "      <td>Frame</td>\n",
       "      <td>2.0</td>\n",
       "      <td>1913</td>\n",
       "      <td>0</td>\n",
       "      <td>3476</td>\n",
       "      <td>4</td>\n",
       "      <td>9</td>\n",
       "      <td>1</td>\n",
       "      <td>0</td>\n",
       "      <td>5040</td>\n",
       "      <td>2002-02</td>\n",
       "      <td>42000</td>\n",
       "    </tr>\n",
       "    <tr>\n",
       "      <th>51</th>\n",
       "      <td>Residential</td>\n",
       "      <td>3190434000</td>\n",
       "      <td>1908 E WEBSTER PL</td>\n",
       "      <td>NaN</td>\n",
       "      <td>3</td>\n",
       "      <td>3170</td>\n",
       "      <td>Rm or Rooming House</td>\n",
       "      <td>Frame</td>\n",
       "      <td>2.0</td>\n",
       "      <td>1897</td>\n",
       "      <td>0</td>\n",
       "      <td>1992</td>\n",
       "      <td>4</td>\n",
       "      <td>2</td>\n",
       "      <td>2</td>\n",
       "      <td>0</td>\n",
       "      <td>2880</td>\n",
       "      <td>2002-05</td>\n",
       "      <td>145000</td>\n",
       "    </tr>\n",
       "    <tr>\n",
       "      <th>67</th>\n",
       "      <td>Residential</td>\n",
       "      <td>3891722000</td>\n",
       "      <td>812 N 25TH ST</td>\n",
       "      <td>NaN</td>\n",
       "      <td>4</td>\n",
       "      <td>3040</td>\n",
       "      <td>Rm or Rooming House</td>\n",
       "      <td>Frame</td>\n",
       "      <td>2.0</td>\n",
       "      <td>1907</td>\n",
       "      <td>0</td>\n",
       "      <td>2339</td>\n",
       "      <td>6</td>\n",
       "      <td>0</td>\n",
       "      <td>1</td>\n",
       "      <td>0</td>\n",
       "      <td>3185</td>\n",
       "      <td>2002-06</td>\n",
       "      <td>30000</td>\n",
       "    </tr>\n",
       "    <tr>\n",
       "      <th>116</th>\n",
       "      <td>Residential</td>\n",
       "      <td>3880628000</td>\n",
       "      <td>959 N 34TH ST</td>\n",
       "      <td>NaN</td>\n",
       "      <td>4</td>\n",
       "      <td>2300</td>\n",
       "      <td>AP 1</td>\n",
       "      <td>Frame</td>\n",
       "      <td>2.0</td>\n",
       "      <td>1890</td>\n",
       "      <td>0</td>\n",
       "      <td>2329</td>\n",
       "      <td>4</td>\n",
       "      <td>4</td>\n",
       "      <td>1</td>\n",
       "      <td>0</td>\n",
       "      <td>5781</td>\n",
       "      <td>2002-10</td>\n",
       "      <td>66500</td>\n",
       "    </tr>\n",
       "    <tr>\n",
       "      <th>134</th>\n",
       "      <td>Residential</td>\n",
       "      <td>3880406000</td>\n",
       "      <td>3209 W WELLS ST</td>\n",
       "      <td>NaN</td>\n",
       "      <td>4</td>\n",
       "      <td>2300</td>\n",
       "      <td>Mansion</td>\n",
       "      <td>Stone</td>\n",
       "      <td>2.5</td>\n",
       "      <td>1891</td>\n",
       "      <td>0</td>\n",
       "      <td>7450</td>\n",
       "      <td>2</td>\n",
       "      <td>7</td>\n",
       "      <td>6</td>\n",
       "      <td>0</td>\n",
       "      <td>15600</td>\n",
       "      <td>2002-11</td>\n",
       "      <td>150500</td>\n",
       "    </tr>\n",
       "    <tr>\n",
       "      <th>...</th>\n",
       "      <td>...</td>\n",
       "      <td>...</td>\n",
       "      <td>...</td>\n",
       "      <td>...</td>\n",
       "      <td>...</td>\n",
       "      <td>...</td>\n",
       "      <td>...</td>\n",
       "      <td>...</td>\n",
       "      <td>...</td>\n",
       "      <td>...</td>\n",
       "      <td>...</td>\n",
       "      <td>...</td>\n",
       "      <td>...</td>\n",
       "      <td>...</td>\n",
       "      <td>...</td>\n",
       "      <td>...</td>\n",
       "      <td>...</td>\n",
       "      <td>...</td>\n",
       "      <td>...</td>\n",
       "    </tr>\n",
       "    <tr>\n",
       "      <th>34445</th>\n",
       "      <td>Residential</td>\n",
       "      <td>3661745000</td>\n",
       "      <td>1426 N 39TH ST</td>\n",
       "      <td>NaN</td>\n",
       "      <td>15</td>\n",
       "      <td>2380</td>\n",
       "      <td>Duplex O/S</td>\n",
       "      <td>Frame</td>\n",
       "      <td>2.0</td>\n",
       "      <td>1915</td>\n",
       "      <td>0</td>\n",
       "      <td>2320</td>\n",
       "      <td>2</td>\n",
       "      <td>4</td>\n",
       "      <td>2</td>\n",
       "      <td>0</td>\n",
       "      <td>3600</td>\n",
       "      <td>2018-12</td>\n",
       "      <td>58500</td>\n",
       "    </tr>\n",
       "    <tr>\n",
       "      <th>34446</th>\n",
       "      <td>Residential</td>\n",
       "      <td>3281050000</td>\n",
       "      <td>2540 N 48TH ST</td>\n",
       "      <td>NaN</td>\n",
       "      <td>15</td>\n",
       "      <td>2520</td>\n",
       "      <td>Milwaukee Bungalow</td>\n",
       "      <td>Stucco</td>\n",
       "      <td>1.0</td>\n",
       "      <td>1922</td>\n",
       "      <td>0</td>\n",
       "      <td>1642</td>\n",
       "      <td>1</td>\n",
       "      <td>5</td>\n",
       "      <td>1</td>\n",
       "      <td>1</td>\n",
       "      <td>5320</td>\n",
       "      <td>2018-12</td>\n",
       "      <td>60000</td>\n",
       "    </tr>\n",
       "    <tr>\n",
       "      <th>34447</th>\n",
       "      <td>Residential</td>\n",
       "      <td>3080417000</td>\n",
       "      <td>2873 N 39TH ST</td>\n",
       "      <td>NaN</td>\n",
       "      <td>15</td>\n",
       "      <td>1780</td>\n",
       "      <td>Milwaukee Bungalow</td>\n",
       "      <td>Aluminum / Vinyl</td>\n",
       "      <td>1.0</td>\n",
       "      <td>1920</td>\n",
       "      <td>0</td>\n",
       "      <td>1469</td>\n",
       "      <td>1</td>\n",
       "      <td>3</td>\n",
       "      <td>1</td>\n",
       "      <td>0</td>\n",
       "      <td>4720</td>\n",
       "      <td>2018-12</td>\n",
       "      <td>56500</td>\n",
       "    </tr>\n",
       "    <tr>\n",
       "      <th>34448</th>\n",
       "      <td>Residential</td>\n",
       "      <td>3641966100</td>\n",
       "      <td>1432 N 24TH ST</td>\n",
       "      <td>NaN</td>\n",
       "      <td>15</td>\n",
       "      <td>3040</td>\n",
       "      <td>Triplex</td>\n",
       "      <td>Aluminum / Vinyl</td>\n",
       "      <td>2.0</td>\n",
       "      <td>1898</td>\n",
       "      <td>0</td>\n",
       "      <td>3472</td>\n",
       "      <td>3</td>\n",
       "      <td>7</td>\n",
       "      <td>3</td>\n",
       "      <td>0</td>\n",
       "      <td>8710</td>\n",
       "      <td>2018-12</td>\n",
       "      <td>62900</td>\n",
       "    </tr>\n",
       "    <tr>\n",
       "      <th>34449</th>\n",
       "      <td>Residential</td>\n",
       "      <td>3100003000</td>\n",
       "      <td>2835 N 25TH ST</td>\n",
       "      <td>NaN</td>\n",
       "      <td>15</td>\n",
       "      <td>2950</td>\n",
       "      <td>Triplex</td>\n",
       "      <td>Aluminum / Vinyl</td>\n",
       "      <td>2.0</td>\n",
       "      <td>1910</td>\n",
       "      <td>0</td>\n",
       "      <td>2505</td>\n",
       "      <td>3</td>\n",
       "      <td>5</td>\n",
       "      <td>3</td>\n",
       "      <td>0</td>\n",
       "      <td>3968</td>\n",
       "      <td>2018-12</td>\n",
       "      <td>17100</td>\n",
       "    </tr>\n",
       "  </tbody>\n",
       "</table>\n",
       "<p>24621 rows × 19 columns</p>\n",
       "</div>"
      ],
      "text/plain": [
       "          PropType      Taxkey            Address CondoProject  District  \\\n",
       "10     Residential  3080013000     3033 N 35TH ST          NaN         7   \n",
       "51     Residential  3190434000  1908 E WEBSTER PL          NaN         3   \n",
       "67     Residential  3891722000      812 N 25TH ST          NaN         4   \n",
       "116    Residential  3880628000      959 N 34TH ST          NaN         4   \n",
       "134    Residential  3880406000    3209 W WELLS ST          NaN         4   \n",
       "...            ...         ...                ...          ...       ...   \n",
       "34445  Residential  3661745000     1426 N 39TH ST          NaN        15   \n",
       "34446  Residential  3281050000     2540 N 48TH ST          NaN        15   \n",
       "34447  Residential  3080417000     2873 N 39TH ST          NaN        15   \n",
       "34448  Residential  3641966100     1432 N 24TH ST          NaN        15   \n",
       "34449  Residential  3100003000     2835 N 25TH ST          NaN        15   \n",
       "\n",
       "       Nbhd                Style           Extwall  Stories  Year_Built  \\\n",
       "10     2960                 AP 1             Frame      2.0        1913   \n",
       "51     3170  Rm or Rooming House             Frame      2.0        1897   \n",
       "67     3040  Rm or Rooming House             Frame      2.0        1907   \n",
       "116    2300                 AP 1             Frame      2.0        1890   \n",
       "134    2300              Mansion             Stone      2.5        1891   \n",
       "...     ...                  ...               ...      ...         ...   \n",
       "34445  2380           Duplex O/S             Frame      2.0        1915   \n",
       "34446  2520   Milwaukee Bungalow            Stucco      1.0        1922   \n",
       "34447  1780   Milwaukee Bungalow  Aluminum / Vinyl      1.0        1920   \n",
       "34448  3040              Triplex  Aluminum / Vinyl      2.0        1898   \n",
       "34449  2950              Triplex  Aluminum / Vinyl      2.0        1910   \n",
       "\n",
       "       Nr_of_rms  Fin_sqft  Units  Bdrms  Fbath  Hbath  Lotsize Sale_date  \\\n",
       "10             0      3476      4      9      1      0     5040   2002-02   \n",
       "51             0      1992      4      2      2      0     2880   2002-05   \n",
       "67             0      2339      6      0      1      0     3185   2002-06   \n",
       "116            0      2329      4      4      1      0     5781   2002-10   \n",
       "134            0      7450      2      7      6      0    15600   2002-11   \n",
       "...          ...       ...    ...    ...    ...    ...      ...       ...   \n",
       "34445          0      2320      2      4      2      0     3600   2018-12   \n",
       "34446          0      1642      1      5      1      1     5320   2018-12   \n",
       "34447          0      1469      1      3      1      0     4720   2018-12   \n",
       "34448          0      3472      3      7      3      0     8710   2018-12   \n",
       "34449          0      2505      3      5      3      0     3968   2018-12   \n",
       "\n",
       "       Sale_price  \n",
       "10          42000  \n",
       "51         145000  \n",
       "67          30000  \n",
       "116         66500  \n",
       "134        150500  \n",
       "...           ...  \n",
       "34445       58500  \n",
       "34446       60000  \n",
       "34447       56500  \n",
       "34448       62900  \n",
       "34449       17100  \n",
       "\n",
       "[24621 rows x 19 columns]"
      ]
     },
     "execution_count": 5,
     "metadata": {},
     "output_type": "execute_result"
    }
   ],
   "source": [
    "# Remove all commercial and Manufacturing properties, only interested in residential\n",
    "housingdata = housingdata[housingdata['PropType'] == 'Residential']\n",
    "housingdata "
   ]
  },
  {
   "cell_type": "code",
   "execution_count": 6,
   "id": "fcc115b5",
   "metadata": {},
   "outputs": [],
   "source": [
    "housingdata = housingdata.drop(columns = 'CondoProject')"
   ]
  },
  {
   "cell_type": "code",
   "execution_count": 7,
   "id": "209322be",
   "metadata": {},
   "outputs": [],
   "source": [
    "housingdata = housingdata.drop(columns = 'Taxkey')"
   ]
  },
  {
   "cell_type": "code",
   "execution_count": 8,
   "id": "2e28d074",
   "metadata": {},
   "outputs": [],
   "source": [
    "housingdata = housingdata.drop(columns = 'Nr_of_rms')"
   ]
  },
  {
   "cell_type": "code",
   "execution_count": 9,
   "id": "689a1d88",
   "metadata": {},
   "outputs": [],
   "source": [
    "housingdata = housingdata[housingdata['Year_Built'] > 1800]"
   ]
  },
  {
   "cell_type": "code",
   "execution_count": 10,
   "id": "6122e931",
   "metadata": {},
   "outputs": [
    {
     "data": {
      "text/plain": [
       "<matplotlib.collections.PathCollection at 0x19ddd893c70>"
      ]
     },
     "execution_count": 10,
     "metadata": {},
     "output_type": "execute_result"
    },
    {
     "data": {
      "image/png": "[encoded data removed]",
      "text/plain": [
       "<Figure size 432x288 with 1 Axes>"
      ]
     },
     "metadata": {
      "needs_background": "light"
     },
     "output_type": "display_data"
    }
   ],
   "source": [
    "plt.scatter(housingdata['Year_Built'], housingdata['Sale_price'])"
   ]
  },
  {
   "cell_type": "code",
   "execution_count": 11,
   "id": "2c75017a",
   "metadata": {},
   "outputs": [],
   "source": [
    "housingdata = housingdata.drop(columns = 'Extwall')"
   ]
  },
  {
   "cell_type": "code",
   "execution_count": 12,
   "id": "f258e361",
   "metadata": {},
   "outputs": [
    {
     "data": {
      "text/html": [
       "<div>\n",
       "<style scoped>\n",
       "    .dataframe tbody tr th:only-of-type {\n",
       "        vertical-align: middle;\n",
       "    }\n",
       "\n",
       "    .dataframe tbody tr th {\n",
       "        vertical-align: top;\n",
       "    }\n",
       "\n",
       "    .dataframe thead th {\n",
       "        text-align: right;\n",
       "    }\n",
       "</style>\n",
       "<table border=\"1\" class=\"dataframe\">\n",
       "  <thead>\n",
       "    <tr style=\"text-align: right;\">\n",
       "      <th></th>\n",
       "      <th>District</th>\n",
       "      <th>Nbhd</th>\n",
       "      <th>Stories</th>\n",
       "      <th>Year_Built</th>\n",
       "      <th>Fin_sqft</th>\n",
       "      <th>Units</th>\n",
       "      <th>Bdrms</th>\n",
       "      <th>Fbath</th>\n",
       "      <th>Hbath</th>\n",
       "      <th>Lotsize</th>\n",
       "      <th>Sale_price</th>\n",
       "    </tr>\n",
       "  </thead>\n",
       "  <tbody>\n",
       "    <tr>\n",
       "      <th>District</th>\n",
       "      <td>1.000000</td>\n",
       "      <td>0.713577</td>\n",
       "      <td>-0.033095</td>\n",
       "      <td>-0.038404</td>\n",
       "      <td>-0.090708</td>\n",
       "      <td>0.000391</td>\n",
       "      <td>-0.000529</td>\n",
       "      <td>-0.030078</td>\n",
       "      <td>-0.045731</td>\n",
       "      <td>-0.044911</td>\n",
       "      <td>0.025499</td>\n",
       "    </tr>\n",
       "    <tr>\n",
       "      <th>Nbhd</th>\n",
       "      <td>0.713577</td>\n",
       "      <td>1.000000</td>\n",
       "      <td>0.033948</td>\n",
       "      <td>-0.228249</td>\n",
       "      <td>-0.013537</td>\n",
       "      <td>0.046353</td>\n",
       "      <td>0.002969</td>\n",
       "      <td>0.026843</td>\n",
       "      <td>-0.086116</td>\n",
       "      <td>-0.193538</td>\n",
       "      <td>0.192575</td>\n",
       "    </tr>\n",
       "    <tr>\n",
       "      <th>Stories</th>\n",
       "      <td>-0.033095</td>\n",
       "      <td>0.033948</td>\n",
       "      <td>1.000000</td>\n",
       "      <td>-0.230718</td>\n",
       "      <td>0.690337</td>\n",
       "      <td>0.530340</td>\n",
       "      <td>0.038381</td>\n",
       "      <td>0.456427</td>\n",
       "      <td>0.139421</td>\n",
       "      <td>-0.079108</td>\n",
       "      <td>0.309309</td>\n",
       "    </tr>\n",
       "    <tr>\n",
       "      <th>Year_Built</th>\n",
       "      <td>-0.038404</td>\n",
       "      <td>-0.228249</td>\n",
       "      <td>-0.230718</td>\n",
       "      <td>1.000000</td>\n",
       "      <td>-0.227115</td>\n",
       "      <td>-0.263869</td>\n",
       "      <td>-0.029671</td>\n",
       "      <td>-0.152557</td>\n",
       "      <td>0.225566</td>\n",
       "      <td>0.437667</td>\n",
       "      <td>-0.011483</td>\n",
       "    </tr>\n",
       "    <tr>\n",
       "      <th>Fin_sqft</th>\n",
       "      <td>-0.090708</td>\n",
       "      <td>-0.013537</td>\n",
       "      <td>0.690337</td>\n",
       "      <td>-0.227115</td>\n",
       "      <td>1.000000</td>\n",
       "      <td>0.537705</td>\n",
       "      <td>0.059282</td>\n",
       "      <td>0.660182</td>\n",
       "      <td>0.178136</td>\n",
       "      <td>0.082356</td>\n",
       "      <td>0.535026</td>\n",
       "    </tr>\n",
       "    <tr>\n",
       "      <th>Units</th>\n",
       "      <td>0.000391</td>\n",
       "      <td>0.046353</td>\n",
       "      <td>0.530340</td>\n",
       "      <td>-0.263869</td>\n",
       "      <td>0.537705</td>\n",
       "      <td>1.000000</td>\n",
       "      <td>0.043428</td>\n",
       "      <td>0.513936</td>\n",
       "      <td>-0.130414</td>\n",
       "      <td>-0.145449</td>\n",
       "      <td>-0.025201</td>\n",
       "    </tr>\n",
       "    <tr>\n",
       "      <th>Bdrms</th>\n",
       "      <td>-0.000529</td>\n",
       "      <td>0.002969</td>\n",
       "      <td>0.038381</td>\n",
       "      <td>-0.029671</td>\n",
       "      <td>0.059282</td>\n",
       "      <td>0.043428</td>\n",
       "      <td>1.000000</td>\n",
       "      <td>0.048777</td>\n",
       "      <td>0.001549</td>\n",
       "      <td>-0.005924</td>\n",
       "      <td>0.012327</td>\n",
       "    </tr>\n",
       "    <tr>\n",
       "      <th>Fbath</th>\n",
       "      <td>-0.030078</td>\n",
       "      <td>0.026843</td>\n",
       "      <td>0.456427</td>\n",
       "      <td>-0.152557</td>\n",
       "      <td>0.660182</td>\n",
       "      <td>0.513936</td>\n",
       "      <td>0.048777</td>\n",
       "      <td>1.000000</td>\n",
       "      <td>-0.127314</td>\n",
       "      <td>0.028500</td>\n",
       "      <td>0.369559</td>\n",
       "    </tr>\n",
       "    <tr>\n",
       "      <th>Hbath</th>\n",
       "      <td>-0.045731</td>\n",
       "      <td>-0.086116</td>\n",
       "      <td>0.139421</td>\n",
       "      <td>0.225566</td>\n",
       "      <td>0.178136</td>\n",
       "      <td>-0.130414</td>\n",
       "      <td>0.001549</td>\n",
       "      <td>-0.127314</td>\n",
       "      <td>1.000000</td>\n",
       "      <td>0.216218</td>\n",
       "      <td>0.274860</td>\n",
       "    </tr>\n",
       "    <tr>\n",
       "      <th>Lotsize</th>\n",
       "      <td>-0.044911</td>\n",
       "      <td>-0.193538</td>\n",
       "      <td>-0.079108</td>\n",
       "      <td>0.437667</td>\n",
       "      <td>0.082356</td>\n",
       "      <td>-0.145449</td>\n",
       "      <td>-0.005924</td>\n",
       "      <td>0.028500</td>\n",
       "      <td>0.216218</td>\n",
       "      <td>1.000000</td>\n",
       "      <td>0.186773</td>\n",
       "    </tr>\n",
       "    <tr>\n",
       "      <th>Sale_price</th>\n",
       "      <td>0.025499</td>\n",
       "      <td>0.192575</td>\n",
       "      <td>0.309309</td>\n",
       "      <td>-0.011483</td>\n",
       "      <td>0.535026</td>\n",
       "      <td>-0.025201</td>\n",
       "      <td>0.012327</td>\n",
       "      <td>0.369559</td>\n",
       "      <td>0.274860</td>\n",
       "      <td>0.186773</td>\n",
       "      <td>1.000000</td>\n",
       "    </tr>\n",
       "  </tbody>\n",
       "</table>\n",
       "</div>"
      ],
      "text/plain": [
       "            District      Nbhd   Stories  Year_Built  Fin_sqft     Units  \\\n",
       "District    1.000000  0.713577 -0.033095   -0.038404 -0.090708  0.000391   \n",
       "Nbhd        0.713577  1.000000  0.033948   -0.228249 -0.013537  0.046353   \n",
       "Stories    -0.033095  0.033948  1.000000   -0.230718  0.690337  0.530340   \n",
       "Year_Built -0.038404 -0.228249 -0.230718    1.000000 -0.227115 -0.263869   \n",
       "Fin_sqft   -0.090708 -0.013537  0.690337   -0.227115  1.000000  0.537705   \n",
       "Units       0.000391  0.046353  0.530340   -0.263869  0.537705  1.000000   \n",
       "Bdrms      -0.000529  0.002969  0.038381   -0.029671  0.059282  0.043428   \n",
       "Fbath      -0.030078  0.026843  0.456427   -0.152557  0.660182  0.513936   \n",
       "Hbath      -0.045731 -0.086116  0.139421    0.225566  0.178136 -0.130414   \n",
       "Lotsize    -0.044911 -0.193538 -0.079108    0.437667  0.082356 -0.145449   \n",
       "Sale_price  0.025499  0.192575  0.309309   -0.011483  0.535026 -0.025201   \n",
       "\n",
       "               Bdrms     Fbath     Hbath   Lotsize  Sale_price  \n",
       "District   -0.000529 -0.030078 -0.045731 -0.044911    0.025499  \n",
       "Nbhd        0.002969  0.026843 -0.086116 -0.193538    0.192575  \n",
       "Stories     0.038381  0.456427  0.139421 -0.079108    0.309309  \n",
       "Year_Built -0.029671 -0.152557  0.225566  0.437667   -0.011483  \n",
       "Fin_sqft    0.059282  0.660182  0.178136  0.082356    0.535026  \n",
       "Units       0.043428  0.513936 -0.130414 -0.145449   -0.025201  \n",
       "Bdrms       1.000000  0.048777  0.001549 -0.005924    0.012327  \n",
       "Fbath       0.048777  1.000000 -0.127314  0.028500    0.369559  \n",
       "Hbath       0.001549 -0.127314  1.000000  0.216218    0.274860  \n",
       "Lotsize    -0.005924  0.028500  0.216218  1.000000    0.186773  \n",
       "Sale_price  0.012327  0.369559  0.274860  0.186773    1.000000  "
      ]
     },
     "execution_count": 12,
     "metadata": {},
     "output_type": "execute_result"
    }
   ],
   "source": [
    "housingdata.corr()"
   ]
  },
  {
   "cell_type": "code",
   "execution_count": 13,
   "id": "e8c81615",
   "metadata": {},
   "outputs": [
    {
     "data": {
      "text/plain": [
       "array([ 7,  3,  4, 12, 11,  1, 13,  8, 15,  6,  9,  2,  5, 10, 14],\n",
       "      dtype=int64)"
      ]
     },
     "execution_count": 13,
     "metadata": {},
     "output_type": "execute_result"
    }
   ],
   "source": [
    "# group by district\n",
    "housingdata['District'].unique()"
   ]
  },
  {
   "cell_type": "code",
   "execution_count": 14,
   "id": "89912c1c",
   "metadata": {},
   "outputs": [],
   "source": [
    "housingdata1 = housingdata[housingdata['District'] == 1.0]\n",
    "housingdata2 = housingdata[housingdata['District'] == 2.0]\n",
    "housingdata3 = housingdata[housingdata['District'] == 3.0]\n",
    "housingdata4 = housingdata[housingdata['District'] == 4.0]\n",
    "housingdata5 = housingdata[housingdata['District'] == 5.0]\n",
    "housingdata6 = housingdata[housingdata['District'] == 6.0]\n",
    "housingdata7 = housingdata[housingdata['District'] == 7.0]\n",
    "housingdata8 = housingdata[housingdata['District'] == 8.0]\n",
    "housingdata9 = housingdata[housingdata['District'] == 9.0]\n",
    "housingdata10 = housingdata[housingdata['District'] == 10.0]\n",
    "housingdata11 = housingdata[housingdata['District'] == 11.0]\n",
    "housingdata12 = housingdata[housingdata['District'] == 12.0]\n",
    "housingdata13 = housingdata[housingdata['District'] == 13.0]\n",
    "housingdata14 = housingdata[housingdata['District'] == 14.0]\n",
    "housingdata15 = housingdata[housingdata['District'] == 15.0]"
   ]
  },
  {
   "cell_type": "code",
   "execution_count": 15,
   "id": "b50bfdb8",
   "metadata": {},
   "outputs": [
    {
     "data": {
      "text/plain": [
       "0"
      ]
     },
     "execution_count": 15,
     "metadata": {},
     "output_type": "execute_result"
    }
   ],
   "source": [
    "# Check for NA's in target data and training data\n",
    "housingdata['Sale_price'].isnull().values.sum()"
   ]
  },
  {
   "cell_type": "code",
   "execution_count": 16,
   "id": "a91a33ef",
   "metadata": {},
   "outputs": [
    {
     "data": {
      "text/plain": [
       "0"
      ]
     },
     "execution_count": 16,
     "metadata": {},
     "output_type": "execute_result"
    }
   ],
   "source": [
    "housingdata['Year_Built'].isnull().values.sum()"
   ]
  },
  {
   "cell_type": "markdown",
   "id": "0b285570",
   "metadata": {},
   "source": [
    "#  Linear Regression Model Testing"
   ]
  },
  {
   "cell_type": "markdown",
   "id": "54495f1d",
   "metadata": {},
   "source": [
    "Using Year Built"
   ]
  },
  {
   "cell_type": "code",
   "execution_count": 17,
   "id": "da800450",
   "metadata": {},
   "outputs": [],
   "source": [
    "# split data into train and test data\n",
    "# our target is the slae price and we will try many different features to find most accurate\n",
    "y = housingdata.Sale_price.values\n",
    "X = housingdata.Year_Built.values.reshape(-1,1)\n",
    "X_train, X_test, y_train, y_test = train_test_split(X, y,random_state = 0)"
   ]
  },
  {
   "cell_type": "code",
   "execution_count": 18,
   "id": "f8dfeb34",
   "metadata": {},
   "outputs": [],
   "source": [
    "lin_reg_year = LinearRegression().fit(X_train, y_train)"
   ]
  },
  {
   "cell_type": "code",
   "execution_count": 19,
   "id": "ec8fd1f3",
   "metadata": {},
   "outputs": [
    {
     "name": "stdout",
     "output_type": "stream",
     "text": [
      "model coeff (w): [-31.050628]\n",
      "model intercept (b): 198589.985\n",
      "R-squared score (training): 0.000\n",
      "R-squared score (test): 0.000\n"
     ]
    }
   ],
   "source": [
    "print('model coeff (w): {}'\n",
    "     .format(lin_reg_year.coef_))\n",
    "print('model intercept (b): {:.3f}'\n",
    "     .format(lin_reg_year.intercept_))\n",
    "print('R-squared score (training): {:.3f}'\n",
    "     .format(lin_reg_year.score(X_train, y_train)))\n",
    "print('R-squared score (test): {:.3f}'\n",
    "     .format(lin_reg_year.score(X_test, y_test)))"
   ]
  },
  {
   "cell_type": "markdown",
   "id": "83e7e5a0",
   "metadata": {},
   "source": [
    "from results we can see that year built will not be a valuable part of determining sale price"
   ]
  },
  {
   "cell_type": "markdown",
   "id": "010bed2a",
   "metadata": {},
   "source": [
    "Using District Number"
   ]
  },
  {
   "cell_type": "code",
   "execution_count": 20,
   "id": "3dbe427b",
   "metadata": {
    "scrolled": false
   },
   "outputs": [
    {
     "data": {
      "text/plain": [
       "0"
      ]
     },
     "execution_count": 20,
     "metadata": {},
     "output_type": "execute_result"
    }
   ],
   "source": [
    "housingdata['District'].isnull().values.sum()"
   ]
  },
  {
   "cell_type": "code",
   "execution_count": 21,
   "id": "dfe87caf",
   "metadata": {},
   "outputs": [],
   "source": [
    "X = housingdata.District.values.reshape(-1,1)\n",
    "X_train, X_test, y_train, y_test = train_test_split(X, y,random_state = 0)"
   ]
  },
  {
   "cell_type": "code",
   "execution_count": 22,
   "id": "9e610f1e",
   "metadata": {},
   "outputs": [],
   "source": [
    "lin_reg_district = LinearRegression().fit(X_train, y_train)"
   ]
  },
  {
   "cell_type": "code",
   "execution_count": 23,
   "id": "f83a9e5b",
   "metadata": {},
   "outputs": [
    {
     "name": "stdout",
     "output_type": "stream",
     "text": [
      "model coeff (w): [539.92222017]\n",
      "model intercept (b): 133647.074\n",
      "R-squared score (training): 0.001\n",
      "R-squared score (test): 0.000\n"
     ]
    }
   ],
   "source": [
    "print('model coeff (w): {}'\n",
    "     .format(lin_reg_district.coef_))\n",
    "print('model intercept (b): {:.3f}'\n",
    "     .format(lin_reg_district.intercept_))\n",
    "print('R-squared score (training): {:.3f}'\n",
    "     .format(lin_reg_district.score(X_train, y_train)))\n",
    "print('R-squared score (test): {:.3f}'\n",
    "     .format(lin_reg_district.score(X_test, y_test)))"
   ]
  },
  {
   "cell_type": "code",
   "execution_count": 24,
   "id": "32e12cca",
   "metadata": {},
   "outputs": [
    {
     "data": {
      "text/plain": [
       "<matplotlib.collections.PathCollection at 0x19ddd969550>"
      ]
     },
     "execution_count": 24,
     "metadata": {},
     "output_type": "execute_result"
    },
    {
     "data": {
      "image/png": "[encoded data removed]",
      "text/plain": [
       "<Figure size 432x288 with 1 Axes>"
      ]
     },
     "metadata": {
      "needs_background": "light"
     },
     "output_type": "display_data"
    }
   ],
   "source": [
    "plt.scatter(housingdata['District'], housingdata['Sale_price'])"
   ]
  },
  {
   "cell_type": "markdown",
   "id": "43178c48",
   "metadata": {},
   "source": [
    "Using Neighborhood"
   ]
  },
  {
   "cell_type": "code",
   "execution_count": 25,
   "id": "ad5f8fb7",
   "metadata": {
    "scrolled": false
   },
   "outputs": [
    {
     "data": {
      "text/plain": [
       "0"
      ]
     },
     "execution_count": 25,
     "metadata": {},
     "output_type": "execute_result"
    }
   ],
   "source": [
    "housingdata['Nbhd'].isnull().values.sum()"
   ]
  },
  {
   "cell_type": "code",
   "execution_count": 26,
   "id": "497ec717",
   "metadata": {},
   "outputs": [],
   "source": [
    "X = housingdata.Nbhd.values.reshape(-1,1)\n",
    "X_train, X_test, y_train, y_test = train_test_split(X, y,random_state = 0)"
   ]
  },
  {
   "cell_type": "code",
   "execution_count": 27,
   "id": "ed6661d4",
   "metadata": {},
   "outputs": [],
   "source": [
    "lin_reg_district = LinearRegression().fit(X_train, y_train)"
   ]
  },
  {
   "cell_type": "code",
   "execution_count": 28,
   "id": "0c757283",
   "metadata": {},
   "outputs": [
    {
     "name": "stdout",
     "output_type": "stream",
     "text": [
      "model coeff (w): [10.89662145]\n",
      "model intercept (b): 105468.065\n",
      "R-squared score (training): 0.036\n",
      "R-squared score (test): 0.039\n"
     ]
    }
   ],
   "source": [
    "print('model coeff (w): {}'\n",
    "     .format(lin_reg_district.coef_))\n",
    "print('model intercept (b): {:.3f}'\n",
    "     .format(lin_reg_district.intercept_))\n",
    "print('R-squared score (training): {:.3f}'\n",
    "     .format(lin_reg_district.score(X_train, y_train)))\n",
    "print('R-squared score (test): {:.3f}'\n",
    "     .format(lin_reg_district.score(X_test, y_test)))"
   ]
  },
  {
   "cell_type": "code",
   "execution_count": 29,
   "id": "df51f3c9",
   "metadata": {},
   "outputs": [
    {
     "data": {
      "text/plain": [
       "<matplotlib.collections.PathCollection at 0x19dbbe8daf0>"
      ]
     },
     "execution_count": 29,
     "metadata": {},
     "output_type": "execute_result"
    },
    {
     "data": {
      "image/png": "[encoded data removed]",
      "text/plain": [
       "<Figure size 432x288 with 1 Axes>"
      ]
     },
     "metadata": {
      "needs_background": "light"
     },
     "output_type": "display_data"
    }
   ],
   "source": [
    "plt.scatter(housingdata['Nbhd'], housingdata['Sale_price'])"
   ]
  },
  {
   "cell_type": "markdown",
   "id": "ffd7dc37",
   "metadata": {},
   "source": [
    "Basically no correlation, unusable as is"
   ]
  },
  {
   "cell_type": "markdown",
   "id": "03f16bc3",
   "metadata": {},
   "source": [
    "Using Finished Sqft"
   ]
  },
  {
   "cell_type": "code",
   "execution_count": 30,
   "id": "2a82b5a4",
   "metadata": {
    "scrolled": false
   },
   "outputs": [
    {
     "data": {
      "text/plain": [
       "0"
      ]
     },
     "execution_count": 30,
     "metadata": {},
     "output_type": "execute_result"
    }
   ],
   "source": [
    "housingdata['Fin_sqft'].isnull().values.sum()"
   ]
  },
  {
   "cell_type": "code",
   "execution_count": 31,
   "id": "956413ee",
   "metadata": {},
   "outputs": [],
   "source": [
    "X = housingdata.Fin_sqft.values.reshape(-1,1)\n",
    "X_train, X_test, y_train, y_test = train_test_split(X, y,random_state = 0)"
   ]
  },
  {
   "cell_type": "code",
   "execution_count": 32,
   "id": "7807db98",
   "metadata": {},
   "outputs": [],
   "source": [
    "lin_reg_sqft = LinearRegression().fit(X_train, y_train)"
   ]
  },
  {
   "cell_type": "code",
   "execution_count": 33,
   "id": "b451c0ae",
   "metadata": {
    "scrolled": true
   },
   "outputs": [
    {
     "name": "stdout",
     "output_type": "stream",
     "text": [
      "model coeff (w): [70.43281467]\n",
      "model intercept (b): 32733.518\n",
      "R-squared score (training): 0.287\n",
      "R-squared score (test): 0.283\n"
     ]
    }
   ],
   "source": [
    "print('model coeff (w): {}'\n",
    "     .format(lin_reg_sqft.coef_))\n",
    "print('model intercept (b): {:.3f}'\n",
    "     .format(lin_reg_sqft.intercept_))\n",
    "print('R-squared score (training): {:.3f}'\n",
    "     .format(lin_reg_sqft.score(X_train, y_train)))\n",
    "print('R-squared score (test): {:.3f}'\n",
    "     .format(lin_reg_sqft.score(X_test, y_test)))"
   ]
  },
  {
   "cell_type": "code",
   "execution_count": 34,
   "id": "1a59937c",
   "metadata": {
    "scrolled": true
   },
   "outputs": [
    {
     "data": {
      "text/plain": [
       "<matplotlib.collections.PathCollection at 0x19ddda4bfd0>"
      ]
     },
     "execution_count": 34,
     "metadata": {},
     "output_type": "execute_result"
    },
    {
     "data": {
      "image/png": "[encoded data removed]",
      "text/plain": [
       "<Figure size 432x288 with 1 Axes>"
      ]
     },
     "metadata": {
      "needs_background": "light"
     },
     "output_type": "display_data"
    }
   ],
   "source": [
    "plt.scatter(housingdata['Fin_sqft'], housingdata['Sale_price'])"
   ]
  },
  {
   "cell_type": "code",
   "execution_count": 35,
   "id": "0f588ce3",
   "metadata": {
    "scrolled": false
   },
   "outputs": [
    {
     "data": {
      "image/png": "[encoded data removed]",
      "text/plain": [
       "<Figure size 432x288 with 1 Axes>"
      ]
     },
     "metadata": {
      "needs_background": "light"
     },
     "output_type": "display_data"
    }
   ],
   "source": [
    "plt.scatter(X,y)\n",
    "plt.plot(X,lin_reg_sqft.coef_*X+lin_reg_sqft.intercept_,'-r')\n",
    "plt.xlabel('Finished sqft')\n",
    "plt.ylabel('Sale Price')\n",
    "plt.show()"
   ]
  },
  {
   "cell_type": "markdown",
   "id": "369115e5",
   "metadata": {},
   "source": [
    "Best R-score so far"
   ]
  },
  {
   "cell_type": "code",
   "execution_count": 36,
   "id": "aeebaa73",
   "metadata": {},
   "outputs": [],
   "source": [
    "# At this point it is clear that a single variable will not be able to accurately predict price \n",
    "# in a standard Linear Regression, since Finished sqft has highest correlation to sale_price\n",
    "# Try using a multiple variable linear regression"
   ]
  },
  {
   "cell_type": "markdown",
   "id": "e242b4b7",
   "metadata": {},
   "source": [
    "Finished Sqft, FBath, and Stories"
   ]
  },
  {
   "cell_type": "code",
   "execution_count": 37,
   "id": "39243639",
   "metadata": {},
   "outputs": [
    {
     "data": {
      "text/plain": [
       "0"
      ]
     },
     "execution_count": 37,
     "metadata": {},
     "output_type": "execute_result"
    }
   ],
   "source": [
    "housingdata['Fbath'].isnull().values.sum()"
   ]
  },
  {
   "cell_type": "code",
   "execution_count": 38,
   "id": "3bbad7c0",
   "metadata": {},
   "outputs": [
    {
     "data": {
      "text/plain": [
       "0"
      ]
     },
     "execution_count": 38,
     "metadata": {},
     "output_type": "execute_result"
    }
   ],
   "source": [
    "housingdata['Stories'].isnull().values.sum()"
   ]
  },
  {
   "cell_type": "code",
   "execution_count": 39,
   "id": "c1833ac0",
   "metadata": {},
   "outputs": [
    {
     "data": {
      "text/plain": [
       "0"
      ]
     },
     "execution_count": 39,
     "metadata": {},
     "output_type": "execute_result"
    }
   ],
   "source": [
    "housingdata['Fin_sqft'].isnull().values.sum()"
   ]
  },
  {
   "cell_type": "code",
   "execution_count": 40,
   "id": "0fb66209",
   "metadata": {},
   "outputs": [],
   "source": [
    "housingdata = housingdata[housingdata['Fbath'].isnull() == False] "
   ]
  },
  {
   "cell_type": "code",
   "execution_count": 41,
   "id": "b0be9b1d",
   "metadata": {
    "scrolled": true
   },
   "outputs": [
    {
     "name": "stdout",
     "output_type": "stream",
     "text": [
      "model coeffs (w): [    77.92931064   4944.99254486 -22658.26685517]\n",
      "model intercept (b): 43631.941\n",
      "R-squared score (training): 0.295\n",
      "R-squared score (test): 0.289\n"
     ]
    }
   ],
   "source": [
    "X = housingdata[['Fin_sqft', 'Fbath', 'Stories']]\n",
    "y = housingdata['Sale_price']\n",
    "X_train, X_test, y_train, y_test = train_test_split(X, y,random_state = 0)\n",
    "lin_reg_mult1 = LinearRegression().fit(X_train, y_train)\n",
    "\n",
    "print('model coeffs (w): {}'\n",
    "     .format(lin_reg_mult1.coef_))\n",
    "print('model intercept (b): {:.3f}'\n",
    "     .format(lin_reg_mult1.intercept_))\n",
    "print('R-squared score (training): {:.3f}'\n",
    "     .format(lin_reg_mult1.score(X_train, y_train)))\n",
    "print('R-squared score (test): {:.3f}'\n",
    "     .format(lin_reg_mult1.score(X_test, y_test)))"
   ]
  },
  {
   "cell_type": "markdown",
   "id": "d5d2badf",
   "metadata": {},
   "source": [
    "# Finished Sqft and Nbhd"
   ]
  },
  {
   "cell_type": "code",
   "execution_count": 42,
   "id": "0f5f6b2c",
   "metadata": {},
   "outputs": [
    {
     "data": {
      "text/plain": [
       "0"
      ]
     },
     "execution_count": 42,
     "metadata": {},
     "output_type": "execute_result"
    }
   ],
   "source": [
    "housingdata['Fin_sqft'].isnull().values.sum()"
   ]
  },
  {
   "cell_type": "code",
   "execution_count": 43,
   "id": "04708c3c",
   "metadata": {},
   "outputs": [
    {
     "data": {
      "text/plain": [
       "0"
      ]
     },
     "execution_count": 43,
     "metadata": {},
     "output_type": "execute_result"
    }
   ],
   "source": [
    "housingdata['Nbhd'].isnull().values.sum()"
   ]
  },
  {
   "cell_type": "code",
   "execution_count": 44,
   "id": "3094e340",
   "metadata": {
    "scrolled": true
   },
   "outputs": [
    {
     "name": "stdout",
     "output_type": "stream",
     "text": [
      "model coeffs (w): [70.80503996 11.3373151 ]\n",
      "model intercept (b): -2007.408\n",
      "R-squared score (training): 0.327\n",
      "R-squared score (test): 0.325\n"
     ]
    }
   ],
   "source": [
    "X = housingdata[['Fin_sqft', 'Nbhd']]\n",
    "y = housingdata['Sale_price']\n",
    "X_train, X_test, y_train, y_test = train_test_split(X, y,random_state = 0)\n",
    "lin_reg_mult1 = LinearRegression().fit(X_train, y_train)\n",
    "\n",
    "print('model coeffs (w): {}'\n",
    "     .format(lin_reg_mult1.coef_))\n",
    "print('model intercept (b): {:.3f}'\n",
    "     .format(lin_reg_mult1.intercept_))\n",
    "print('R-squared score (training): {:.3f}'\n",
    "     .format(lin_reg_mult1.score(X_train, y_train)))\n",
    "print('R-squared score (test): {:.3f}'\n",
    "     .format(lin_reg_mult1.score(X_test, y_test)))"
   ]
  },
  {
   "cell_type": "markdown",
   "id": "25cd1eb8",
   "metadata": {},
   "source": [
    "# Finished Sqft and District"
   ]
  },
  {
   "cell_type": "code",
   "execution_count": 45,
   "id": "953adff4",
   "metadata": {},
   "outputs": [
    {
     "data": {
      "text/plain": [
       "0"
      ]
     },
     "execution_count": 45,
     "metadata": {},
     "output_type": "execute_result"
    }
   ],
   "source": [
    "housingdata['Fin_sqft'].isnull().values.sum()"
   ]
  },
  {
   "cell_type": "code",
   "execution_count": 46,
   "id": "c885c5d3",
   "metadata": {},
   "outputs": [
    {
     "data": {
      "text/plain": [
       "0"
      ]
     },
     "execution_count": 46,
     "metadata": {},
     "output_type": "execute_result"
    }
   ],
   "source": [
    "housingdata['District'].isnull().values.sum()"
   ]
  },
  {
   "cell_type": "code",
   "execution_count": 47,
   "id": "3b0b1a91",
   "metadata": {
    "scrolled": true
   },
   "outputs": [
    {
     "name": "stdout",
     "output_type": "stream",
     "text": [
      "model coeffs (w): [  71.34639026 1506.24906763]\n",
      "model intercept (b): 18321.368\n",
      "R-squared score (training): 0.293\n",
      "R-squared score (test): 0.287\n"
     ]
    }
   ],
   "source": [
    "X = housingdata[['Fin_sqft', 'District']]\n",
    "y = housingdata['Sale_price']\n",
    "X_train, X_test, y_train, y_test = train_test_split(X, y,random_state = 0)\n",
    "lin_reg_mult1 = LinearRegression().fit(X_train, y_train)\n",
    "\n",
    "print('model coeffs (w): {}'\n",
    "     .format(lin_reg_mult1.coef_))\n",
    "print('model intercept (b): {:.3f}'\n",
    "     .format(lin_reg_mult1.intercept_))\n",
    "print('R-squared score (training): {:.3f}'\n",
    "     .format(lin_reg_mult1.score(X_train, y_train)))\n",
    "print('R-squared score (test): {:.3f}'\n",
    "     .format(lin_reg_mult1.score(X_test, y_test)))"
   ]
  },
  {
   "cell_type": "markdown",
   "id": "12b150ad",
   "metadata": {},
   "source": [
    "#  Using district specific values"
   ]
  },
  {
   "cell_type": "code",
   "execution_count": 48,
   "id": "139f214d",
   "metadata": {},
   "outputs": [
    {
     "name": "stdout",
     "output_type": "stream",
     "text": [
      "{1: 70130.00792864223, 2: 88591.07304964539, 3: 288807.5890585242, 4: 85313.71686746988, 5: 136445.66808397556, 6: 91010.46230440967, 7: 75124.65537270087, 8: 87057.63408820024, 9: 125612.47643979058, 10: 140750.33248175183, 11: 146135.2878622198, 12: 71310.38004246284, 13: 146453.59694989107, 14: 168330.23035904727, 15: 64969.05037313433}\n"
     ]
    }
   ],
   "source": [
    "mean_prices = {1:statistics.mean(housingdata1['Sale_price']),\n",
    "               2:statistics.mean(housingdata2['Sale_price']),\n",
    "               3:statistics.mean(housingdata3['Sale_price']),\n",
    "               4:statistics.mean(housingdata4['Sale_price']),\n",
    "               5:statistics.mean(housingdata5['Sale_price']),\n",
    "               6:statistics.mean(housingdata6['Sale_price']),\n",
    "               7:statistics.mean(housingdata7['Sale_price']),\n",
    "               8:statistics.mean(housingdata8['Sale_price']),\n",
    "               9:statistics.mean(housingdata9['Sale_price']),\n",
    "               10:statistics.mean(housingdata10['Sale_price']),\n",
    "               11:statistics.mean(housingdata11['Sale_price']),\n",
    "               12:statistics.mean(housingdata12['Sale_price']),\n",
    "               13:statistics.mean(housingdata13['Sale_price']),\n",
    "               14:statistics.mean(housingdata14['Sale_price']),\n",
    "               15:statistics.mean(housingdata15['Sale_price'])}\n",
    "print(mean_prices)"
   ]
  },
  {
   "cell_type": "code",
   "execution_count": 49,
   "id": "b9665f7d",
   "metadata": {},
   "outputs": [],
   "source": [
    "# District 1 70k 2 88k 3 288 4 85 5 136 6 91 7 75 8 87 9 125 10 140 11 146 12 71 13 146 14 168 15 65"
   ]
  },
  {
   "cell_type": "markdown",
   "id": "3f4b422b",
   "metadata": {},
   "source": [
    "# District 3"
   ]
  },
  {
   "cell_type": "code",
   "execution_count": 50,
   "id": "d28afb74",
   "metadata": {
    "scrolled": true
   },
   "outputs": [
    {
     "data": {
      "text/html": [
       "<div>\n",
       "<style scoped>\n",
       "    .dataframe tbody tr th:only-of-type {\n",
       "        vertical-align: middle;\n",
       "    }\n",
       "\n",
       "    .dataframe tbody tr th {\n",
       "        vertical-align: top;\n",
       "    }\n",
       "\n",
       "    .dataframe thead th {\n",
       "        text-align: right;\n",
       "    }\n",
       "</style>\n",
       "<table border=\"1\" class=\"dataframe\">\n",
       "  <thead>\n",
       "    <tr style=\"text-align: right;\">\n",
       "      <th></th>\n",
       "      <th>District</th>\n",
       "      <th>Nbhd</th>\n",
       "      <th>Stories</th>\n",
       "      <th>Year_Built</th>\n",
       "      <th>Fin_sqft</th>\n",
       "      <th>Units</th>\n",
       "      <th>Bdrms</th>\n",
       "      <th>Fbath</th>\n",
       "      <th>Hbath</th>\n",
       "      <th>Lotsize</th>\n",
       "      <th>Sale_price</th>\n",
       "    </tr>\n",
       "  </thead>\n",
       "  <tbody>\n",
       "    <tr>\n",
       "      <th>District</th>\n",
       "      <td>NaN</td>\n",
       "      <td>NaN</td>\n",
       "      <td>NaN</td>\n",
       "      <td>NaN</td>\n",
       "      <td>NaN</td>\n",
       "      <td>NaN</td>\n",
       "      <td>NaN</td>\n",
       "      <td>NaN</td>\n",
       "      <td>NaN</td>\n",
       "      <td>NaN</td>\n",
       "      <td>NaN</td>\n",
       "    </tr>\n",
       "    <tr>\n",
       "      <th>Nbhd</th>\n",
       "      <td>NaN</td>\n",
       "      <td>1.000000</td>\n",
       "      <td>0.094349</td>\n",
       "      <td>0.072236</td>\n",
       "      <td>-0.035158</td>\n",
       "      <td>0.093358</td>\n",
       "      <td>0.001577</td>\n",
       "      <td>-0.065772</td>\n",
       "      <td>-0.079537</td>\n",
       "      <td>-0.031045</td>\n",
       "      <td>-0.069962</td>\n",
       "    </tr>\n",
       "    <tr>\n",
       "      <th>Stories</th>\n",
       "      <td>NaN</td>\n",
       "      <td>0.094349</td>\n",
       "      <td>1.000000</td>\n",
       "      <td>0.014468</td>\n",
       "      <td>0.569136</td>\n",
       "      <td>0.222870</td>\n",
       "      <td>0.489476</td>\n",
       "      <td>0.360868</td>\n",
       "      <td>0.293503</td>\n",
       "      <td>0.258461</td>\n",
       "      <td>0.414969</td>\n",
       "    </tr>\n",
       "    <tr>\n",
       "      <th>Year_Built</th>\n",
       "      <td>NaN</td>\n",
       "      <td>0.072236</td>\n",
       "      <td>0.014468</td>\n",
       "      <td>1.000000</td>\n",
       "      <td>0.093527</td>\n",
       "      <td>-0.059508</td>\n",
       "      <td>0.037280</td>\n",
       "      <td>0.053551</td>\n",
       "      <td>0.101504</td>\n",
       "      <td>0.318528</td>\n",
       "      <td>0.130394</td>\n",
       "    </tr>\n",
       "    <tr>\n",
       "      <th>Fin_sqft</th>\n",
       "      <td>NaN</td>\n",
       "      <td>-0.035158</td>\n",
       "      <td>0.569136</td>\n",
       "      <td>0.093527</td>\n",
       "      <td>1.000000</td>\n",
       "      <td>0.147611</td>\n",
       "      <td>0.686073</td>\n",
       "      <td>0.723962</td>\n",
       "      <td>0.381780</td>\n",
       "      <td>0.631602</td>\n",
       "      <td>0.791851</td>\n",
       "    </tr>\n",
       "    <tr>\n",
       "      <th>Units</th>\n",
       "      <td>NaN</td>\n",
       "      <td>0.093358</td>\n",
       "      <td>0.222870</td>\n",
       "      <td>-0.059508</td>\n",
       "      <td>0.147611</td>\n",
       "      <td>1.000000</td>\n",
       "      <td>0.362639</td>\n",
       "      <td>0.294566</td>\n",
       "      <td>-0.374105</td>\n",
       "      <td>-0.155505</td>\n",
       "      <td>-0.195387</td>\n",
       "    </tr>\n",
       "    <tr>\n",
       "      <th>Bdrms</th>\n",
       "      <td>NaN</td>\n",
       "      <td>0.001577</td>\n",
       "      <td>0.489476</td>\n",
       "      <td>0.037280</td>\n",
       "      <td>0.686073</td>\n",
       "      <td>0.362639</td>\n",
       "      <td>1.000000</td>\n",
       "      <td>0.550966</td>\n",
       "      <td>0.095645</td>\n",
       "      <td>0.316194</td>\n",
       "      <td>0.385757</td>\n",
       "    </tr>\n",
       "    <tr>\n",
       "      <th>Fbath</th>\n",
       "      <td>NaN</td>\n",
       "      <td>-0.065772</td>\n",
       "      <td>0.360868</td>\n",
       "      <td>0.053551</td>\n",
       "      <td>0.723962</td>\n",
       "      <td>0.294566</td>\n",
       "      <td>0.550966</td>\n",
       "      <td>1.000000</td>\n",
       "      <td>0.111203</td>\n",
       "      <td>0.440115</td>\n",
       "      <td>0.575211</td>\n",
       "    </tr>\n",
       "    <tr>\n",
       "      <th>Hbath</th>\n",
       "      <td>NaN</td>\n",
       "      <td>-0.079537</td>\n",
       "      <td>0.293503</td>\n",
       "      <td>0.101504</td>\n",
       "      <td>0.381780</td>\n",
       "      <td>-0.374105</td>\n",
       "      <td>0.095645</td>\n",
       "      <td>0.111203</td>\n",
       "      <td>1.000000</td>\n",
       "      <td>0.419143</td>\n",
       "      <td>0.533806</td>\n",
       "    </tr>\n",
       "    <tr>\n",
       "      <th>Lotsize</th>\n",
       "      <td>NaN</td>\n",
       "      <td>-0.031045</td>\n",
       "      <td>0.258461</td>\n",
       "      <td>0.318528</td>\n",
       "      <td>0.631602</td>\n",
       "      <td>-0.155505</td>\n",
       "      <td>0.316194</td>\n",
       "      <td>0.440115</td>\n",
       "      <td>0.419143</td>\n",
       "      <td>1.000000</td>\n",
       "      <td>0.660855</td>\n",
       "    </tr>\n",
       "    <tr>\n",
       "      <th>Sale_price</th>\n",
       "      <td>NaN</td>\n",
       "      <td>-0.069962</td>\n",
       "      <td>0.414969</td>\n",
       "      <td>0.130394</td>\n",
       "      <td>0.791851</td>\n",
       "      <td>-0.195387</td>\n",
       "      <td>0.385757</td>\n",
       "      <td>0.575211</td>\n",
       "      <td>0.533806</td>\n",
       "      <td>0.660855</td>\n",
       "      <td>1.000000</td>\n",
       "    </tr>\n",
       "  </tbody>\n",
       "</table>\n",
       "</div>"
      ],
      "text/plain": [
       "            District      Nbhd   Stories  Year_Built  Fin_sqft     Units  \\\n",
       "District         NaN       NaN       NaN         NaN       NaN       NaN   \n",
       "Nbhd             NaN  1.000000  0.094349    0.072236 -0.035158  0.093358   \n",
       "Stories          NaN  0.094349  1.000000    0.014468  0.569136  0.222870   \n",
       "Year_Built       NaN  0.072236  0.014468    1.000000  0.093527 -0.059508   \n",
       "Fin_sqft         NaN -0.035158  0.569136    0.093527  1.000000  0.147611   \n",
       "Units            NaN  0.093358  0.222870   -0.059508  0.147611  1.000000   \n",
       "Bdrms            NaN  0.001577  0.489476    0.037280  0.686073  0.362639   \n",
       "Fbath            NaN -0.065772  0.360868    0.053551  0.723962  0.294566   \n",
       "Hbath            NaN -0.079537  0.293503    0.101504  0.381780 -0.374105   \n",
       "Lotsize          NaN -0.031045  0.258461    0.318528  0.631602 -0.155505   \n",
       "Sale_price       NaN -0.069962  0.414969    0.130394  0.791851 -0.195387   \n",
       "\n",
       "               Bdrms     Fbath     Hbath   Lotsize  Sale_price  \n",
       "District         NaN       NaN       NaN       NaN         NaN  \n",
       "Nbhd        0.001577 -0.065772 -0.079537 -0.031045   -0.069962  \n",
       "Stories     0.489476  0.360868  0.293503  0.258461    0.414969  \n",
       "Year_Built  0.037280  0.053551  0.101504  0.318528    0.130394  \n",
       "Fin_sqft    0.686073  0.723962  0.381780  0.631602    0.791851  \n",
       "Units       0.362639  0.294566 -0.374105 -0.155505   -0.195387  \n",
       "Bdrms       1.000000  0.550966  0.095645  0.316194    0.385757  \n",
       "Fbath       0.550966  1.000000  0.111203  0.440115    0.575211  \n",
       "Hbath       0.095645  0.111203  1.000000  0.419143    0.533806  \n",
       "Lotsize     0.316194  0.440115  0.419143  1.000000    0.660855  \n",
       "Sale_price  0.385757  0.575211  0.533806  0.660855    1.000000  "
      ]
     },
     "execution_count": 50,
     "metadata": {},
     "output_type": "execute_result"
    }
   ],
   "source": [
    "housingdata3.corr()"
   ]
  },
  {
   "cell_type": "markdown",
   "id": "7cdedba8",
   "metadata": {},
   "source": [
    "Using Finished Sqft for District 3"
   ]
  },
  {
   "cell_type": "code",
   "execution_count": 51,
   "id": "780e31b3",
   "metadata": {
    "scrolled": false
   },
   "outputs": [
    {
     "data": {
      "text/plain": [
       "0"
      ]
     },
     "execution_count": 51,
     "metadata": {},
     "output_type": "execute_result"
    }
   ],
   "source": [
    "housingdata3['Fin_sqft'].isnull().values.sum()"
   ]
  },
  {
   "cell_type": "code",
   "execution_count": 52,
   "id": "f6b206e2",
   "metadata": {},
   "outputs": [],
   "source": [
    "X = housingdata3.Fin_sqft.values.reshape(-1,1)\n",
    "y = housingdata3.Sale_price.values\n",
    "X_train, X_test, y_train, y_test = train_test_split(X, y,random_state = 0)"
   ]
  },
  {
   "cell_type": "code",
   "execution_count": 53,
   "id": "e2596875",
   "metadata": {},
   "outputs": [],
   "source": [
    "lin_reg_sqft3 = LinearRegression().fit(X_train, y_train)\n",
    "y_pred = lin_reg_sqft3.predict(X_test)"
   ]
  },
  {
   "cell_type": "code",
   "execution_count": 54,
   "id": "260faa64",
   "metadata": {
    "scrolled": true
   },
   "outputs": [
    {
     "name": "stdout",
     "output_type": "stream",
     "text": [
      "model coeff (w):): [136.1655246]\n",
      "model intercept (b): -25687.092\n",
      "R-squared score (training): 0.644\n",
      "R-squared score (test): 0.569\n"
     ]
    }
   ],
   "source": [
    "print('model coeff (w):): {}'\n",
    "     .format(lin_reg_sqft3.coef_))\n",
    "print('model intercept (b): {:.3f}'\n",
    "     .format(lin_reg_sqft3.intercept_))\n",
    "print('R-squared score (training): {:.3f}'\n",
    "     .format(lin_reg_sqft3.score(X_train, y_train)))\n",
    "print('R-squared score (test): {:.3f}'\n",
    "     .format(lin_reg_sqft3.score(X_test, y_test)))"
   ]
  },
  {
   "cell_type": "code",
   "execution_count": 55,
   "id": "0dfe53b9",
   "metadata": {
    "scrolled": false
   },
   "outputs": [
    {
     "data": {
      "image/png": "[encoded data removed]",
      "text/plain": [
       "<Figure size 432x288 with 1 Axes>"
      ]
     },
     "metadata": {
      "needs_background": "light"
     },
     "output_type": "display_data"
    }
   ],
   "source": [
    "plt.scatter(X,y)\n",
    "plt.plot(X,lin_reg_sqft3.coef_*X+lin_reg_sqft3.intercept_,'-r')\n",
    "plt.xlabel('Finished sqft')\n",
    "plt.ylabel('Sale Price')\n",
    "plt.title('District 3')\n",
    "plt.show()"
   ]
  },
  {
   "cell_type": "markdown",
   "id": "219faacc",
   "metadata": {},
   "source": [
    "# District 14"
   ]
  },
  {
   "cell_type": "code",
   "execution_count": 56,
   "id": "9be7fef8",
   "metadata": {
    "scrolled": true
   },
   "outputs": [
    {
     "data": {
      "text/html": [
       "<div>\n",
       "<style scoped>\n",
       "    .dataframe tbody tr th:only-of-type {\n",
       "        vertical-align: middle;\n",
       "    }\n",
       "\n",
       "    .dataframe tbody tr th {\n",
       "        vertical-align: top;\n",
       "    }\n",
       "\n",
       "    .dataframe thead th {\n",
       "        text-align: right;\n",
       "    }\n",
       "</style>\n",
       "<table border=\"1\" class=\"dataframe\">\n",
       "  <thead>\n",
       "    <tr style=\"text-align: right;\">\n",
       "      <th></th>\n",
       "      <th>District</th>\n",
       "      <th>Nbhd</th>\n",
       "      <th>Stories</th>\n",
       "      <th>Year_Built</th>\n",
       "      <th>Fin_sqft</th>\n",
       "      <th>Units</th>\n",
       "      <th>Bdrms</th>\n",
       "      <th>Fbath</th>\n",
       "      <th>Hbath</th>\n",
       "      <th>Lotsize</th>\n",
       "      <th>Sale_price</th>\n",
       "    </tr>\n",
       "  </thead>\n",
       "  <tbody>\n",
       "    <tr>\n",
       "      <th>District</th>\n",
       "      <td>NaN</td>\n",
       "      <td>NaN</td>\n",
       "      <td>NaN</td>\n",
       "      <td>NaN</td>\n",
       "      <td>NaN</td>\n",
       "      <td>NaN</td>\n",
       "      <td>NaN</td>\n",
       "      <td>NaN</td>\n",
       "      <td>NaN</td>\n",
       "      <td>NaN</td>\n",
       "      <td>NaN</td>\n",
       "    </tr>\n",
       "    <tr>\n",
       "      <th>Nbhd</th>\n",
       "      <td>NaN</td>\n",
       "      <td>1.000000</td>\n",
       "      <td>0.014712</td>\n",
       "      <td>-0.037019</td>\n",
       "      <td>-0.043307</td>\n",
       "      <td>-0.112362</td>\n",
       "      <td>-0.083747</td>\n",
       "      <td>-0.012848</td>\n",
       "      <td>0.029224</td>\n",
       "      <td>0.033039</td>\n",
       "      <td>0.224544</td>\n",
       "    </tr>\n",
       "    <tr>\n",
       "      <th>Stories</th>\n",
       "      <td>NaN</td>\n",
       "      <td>0.014712</td>\n",
       "      <td>1.000000</td>\n",
       "      <td>-0.129880</td>\n",
       "      <td>0.602297</td>\n",
       "      <td>0.459181</td>\n",
       "      <td>0.392174</td>\n",
       "      <td>0.356788</td>\n",
       "      <td>0.125927</td>\n",
       "      <td>-0.017807</td>\n",
       "      <td>0.344456</td>\n",
       "    </tr>\n",
       "    <tr>\n",
       "      <th>Year_Built</th>\n",
       "      <td>NaN</td>\n",
       "      <td>-0.037019</td>\n",
       "      <td>-0.129880</td>\n",
       "      <td>1.000000</td>\n",
       "      <td>-0.221466</td>\n",
       "      <td>-0.169127</td>\n",
       "      <td>-0.167582</td>\n",
       "      <td>-0.187496</td>\n",
       "      <td>0.060485</td>\n",
       "      <td>0.276600</td>\n",
       "      <td>-0.059328</td>\n",
       "    </tr>\n",
       "    <tr>\n",
       "      <th>Fin_sqft</th>\n",
       "      <td>NaN</td>\n",
       "      <td>-0.043307</td>\n",
       "      <td>0.602297</td>\n",
       "      <td>-0.221466</td>\n",
       "      <td>1.000000</td>\n",
       "      <td>0.642476</td>\n",
       "      <td>0.725187</td>\n",
       "      <td>0.608880</td>\n",
       "      <td>0.069578</td>\n",
       "      <td>0.095556</td>\n",
       "      <td>0.456862</td>\n",
       "    </tr>\n",
       "    <tr>\n",
       "      <th>Units</th>\n",
       "      <td>NaN</td>\n",
       "      <td>-0.112362</td>\n",
       "      <td>0.459181</td>\n",
       "      <td>-0.169127</td>\n",
       "      <td>0.642476</td>\n",
       "      <td>1.000000</td>\n",
       "      <td>0.565654</td>\n",
       "      <td>0.570628</td>\n",
       "      <td>-0.176353</td>\n",
       "      <td>-0.006021</td>\n",
       "      <td>0.023361</td>\n",
       "    </tr>\n",
       "    <tr>\n",
       "      <th>Bdrms</th>\n",
       "      <td>NaN</td>\n",
       "      <td>-0.083747</td>\n",
       "      <td>0.392174</td>\n",
       "      <td>-0.167582</td>\n",
       "      <td>0.725187</td>\n",
       "      <td>0.565654</td>\n",
       "      <td>1.000000</td>\n",
       "      <td>0.476714</td>\n",
       "      <td>0.003065</td>\n",
       "      <td>0.052318</td>\n",
       "      <td>0.192474</td>\n",
       "    </tr>\n",
       "    <tr>\n",
       "      <th>Fbath</th>\n",
       "      <td>NaN</td>\n",
       "      <td>-0.012848</td>\n",
       "      <td>0.356788</td>\n",
       "      <td>-0.187496</td>\n",
       "      <td>0.608880</td>\n",
       "      <td>0.570628</td>\n",
       "      <td>0.476714</td>\n",
       "      <td>1.000000</td>\n",
       "      <td>-0.217472</td>\n",
       "      <td>0.038577</td>\n",
       "      <td>0.325144</td>\n",
       "    </tr>\n",
       "    <tr>\n",
       "      <th>Hbath</th>\n",
       "      <td>NaN</td>\n",
       "      <td>0.029224</td>\n",
       "      <td>0.125927</td>\n",
       "      <td>0.060485</td>\n",
       "      <td>0.069578</td>\n",
       "      <td>-0.176353</td>\n",
       "      <td>0.003065</td>\n",
       "      <td>-0.217472</td>\n",
       "      <td>1.000000</td>\n",
       "      <td>0.071502</td>\n",
       "      <td>0.189483</td>\n",
       "    </tr>\n",
       "    <tr>\n",
       "      <th>Lotsize</th>\n",
       "      <td>NaN</td>\n",
       "      <td>0.033039</td>\n",
       "      <td>-0.017807</td>\n",
       "      <td>0.276600</td>\n",
       "      <td>0.095556</td>\n",
       "      <td>-0.006021</td>\n",
       "      <td>0.052318</td>\n",
       "      <td>0.038577</td>\n",
       "      <td>0.071502</td>\n",
       "      <td>1.000000</td>\n",
       "      <td>0.114556</td>\n",
       "    </tr>\n",
       "    <tr>\n",
       "      <th>Sale_price</th>\n",
       "      <td>NaN</td>\n",
       "      <td>0.224544</td>\n",
       "      <td>0.344456</td>\n",
       "      <td>-0.059328</td>\n",
       "      <td>0.456862</td>\n",
       "      <td>0.023361</td>\n",
       "      <td>0.192474</td>\n",
       "      <td>0.325144</td>\n",
       "      <td>0.189483</td>\n",
       "      <td>0.114556</td>\n",
       "      <td>1.000000</td>\n",
       "    </tr>\n",
       "  </tbody>\n",
       "</table>\n",
       "</div>"
      ],
      "text/plain": [
       "            District      Nbhd   Stories  Year_Built  Fin_sqft     Units  \\\n",
       "District         NaN       NaN       NaN         NaN       NaN       NaN   \n",
       "Nbhd             NaN  1.000000  0.014712   -0.037019 -0.043307 -0.112362   \n",
       "Stories          NaN  0.014712  1.000000   -0.129880  0.602297  0.459181   \n",
       "Year_Built       NaN -0.037019 -0.129880    1.000000 -0.221466 -0.169127   \n",
       "Fin_sqft         NaN -0.043307  0.602297   -0.221466  1.000000  0.642476   \n",
       "Units            NaN -0.112362  0.459181   -0.169127  0.642476  1.000000   \n",
       "Bdrms            NaN -0.083747  0.392174   -0.167582  0.725187  0.565654   \n",
       "Fbath            NaN -0.012848  0.356788   -0.187496  0.608880  0.570628   \n",
       "Hbath            NaN  0.029224  0.125927    0.060485  0.069578 -0.176353   \n",
       "Lotsize          NaN  0.033039 -0.017807    0.276600  0.095556 -0.006021   \n",
       "Sale_price       NaN  0.224544  0.344456   -0.059328  0.456862  0.023361   \n",
       "\n",
       "               Bdrms     Fbath     Hbath   Lotsize  Sale_price  \n",
       "District         NaN       NaN       NaN       NaN         NaN  \n",
       "Nbhd       -0.083747 -0.012848  0.029224  0.033039    0.224544  \n",
       "Stories     0.392174  0.356788  0.125927 -0.017807    0.344456  \n",
       "Year_Built -0.167582 -0.187496  0.060485  0.276600   -0.059328  \n",
       "Fin_sqft    0.725187  0.608880  0.069578  0.095556    0.456862  \n",
       "Units       0.565654  0.570628 -0.176353 -0.006021    0.023361  \n",
       "Bdrms       1.000000  0.476714  0.003065  0.052318    0.192474  \n",
       "Fbath       0.476714  1.000000 -0.217472  0.038577    0.325144  \n",
       "Hbath       0.003065 -0.217472  1.000000  0.071502    0.189483  \n",
       "Lotsize     0.052318  0.038577  0.071502  1.000000    0.114556  \n",
       "Sale_price  0.192474  0.325144  0.189483  0.114556    1.000000  "
      ]
     },
     "execution_count": 56,
     "metadata": {},
     "output_type": "execute_result"
    }
   ],
   "source": [
    "housingdata14.corr()"
   ]
  },
  {
   "cell_type": "markdown",
   "id": "6557d692",
   "metadata": {},
   "source": [
    "Using Finished Sqft for District 14"
   ]
  },
  {
   "cell_type": "code",
   "execution_count": 57,
   "id": "25865d6d",
   "metadata": {
    "scrolled": false
   },
   "outputs": [
    {
     "data": {
      "text/plain": [
       "0"
      ]
     },
     "execution_count": 57,
     "metadata": {},
     "output_type": "execute_result"
    }
   ],
   "source": [
    "housingdata14['Fin_sqft'].isnull().values.sum()"
   ]
  },
  {
   "cell_type": "code",
   "execution_count": 58,
   "id": "77c94a20",
   "metadata": {},
   "outputs": [],
   "source": [
    "X = housingdata14.Fin_sqft.values.reshape(-1,1)\n",
    "y = housingdata14.Sale_price.values\n",
    "X_train, X_test, y_train, y_test = train_test_split(X, y,random_state = 0)"
   ]
  },
  {
   "cell_type": "code",
   "execution_count": 59,
   "id": "d443f5f4",
   "metadata": {},
   "outputs": [],
   "source": [
    "lin_reg_sqft14 = LinearRegression().fit(X_train, y_train)\n",
    "y_pred = lin_reg_sqft14.predict(X_test)"
   ]
  },
  {
   "cell_type": "code",
   "execution_count": 60,
   "id": "295ae417",
   "metadata": {
    "scrolled": true
   },
   "outputs": [
    {
     "name": "stdout",
     "output_type": "stream",
     "text": [
      "model coeff (w): [62.65655341]\n",
      "model intercept (b): 75679.785\n",
      "R-squared score (training): 0.223\n",
      "R-squared score (test): 0.164\n"
     ]
    }
   ],
   "source": [
    "print('model coeff (w): {}'\n",
    "     .format(lin_reg_sqft14.coef_))\n",
    "print('model intercept (b): {:.3f}'\n",
    "     .format(lin_reg_sqft14.intercept_))\n",
    "print('R-squared score (training): {:.3f}'\n",
    "     .format(lin_reg_sqft14.score(X_train, y_train)))\n",
    "print('R-squared score (test): {:.3f}'\n",
    "     .format(lin_reg_sqft14.score(X_test, y_test)))"
   ]
  },
  {
   "cell_type": "code",
   "execution_count": 61,
   "id": "a79608b1",
   "metadata": {
    "scrolled": false
   },
   "outputs": [
    {
     "data": {
      "image/png": "[encoded data removed]",
      "text/plain": [
       "<Figure size 432x288 with 1 Axes>"
      ]
     },
     "metadata": {
      "needs_background": "light"
     },
     "output_type": "display_data"
    }
   ],
   "source": [
    "plt.scatter(X,y)\n",
    "plt.plot(X,lin_reg_sqft14.coef_*X+lin_reg_sqft14.intercept_,'-r')\n",
    "plt.xlabel('Finished sqft')\n",
    "plt.ylabel('Sale Price')\n",
    "plt.title('District 14')\n",
    "plt.show()"
   ]
  },
  {
   "cell_type": "markdown",
   "id": "9e22c0af",
   "metadata": {},
   "source": [
    "y = 75679.785 + 62.66x"
   ]
  },
  {
   "cell_type": "code",
   "execution_count": 62,
   "id": "5723dc50",
   "metadata": {
    "scrolled": true
   },
   "outputs": [
    {
     "data": {
      "text/html": [
       "<div>\n",
       "<style scoped>\n",
       "    .dataframe tbody tr th:only-of-type {\n",
       "        vertical-align: middle;\n",
       "    }\n",
       "\n",
       "    .dataframe tbody tr th {\n",
       "        vertical-align: top;\n",
       "    }\n",
       "\n",
       "    .dataframe thead th {\n",
       "        text-align: right;\n",
       "    }\n",
       "</style>\n",
       "<table border=\"1\" class=\"dataframe\">\n",
       "  <thead>\n",
       "    <tr style=\"text-align: right;\">\n",
       "      <th></th>\n",
       "      <th>District</th>\n",
       "      <th>Nbhd</th>\n",
       "      <th>Stories</th>\n",
       "      <th>Year_Built</th>\n",
       "      <th>Fin_sqft</th>\n",
       "      <th>Units</th>\n",
       "      <th>Bdrms</th>\n",
       "      <th>Fbath</th>\n",
       "      <th>Hbath</th>\n",
       "      <th>Lotsize</th>\n",
       "      <th>Sale_price</th>\n",
       "    </tr>\n",
       "  </thead>\n",
       "  <tbody>\n",
       "    <tr>\n",
       "      <th>District</th>\n",
       "      <td>NaN</td>\n",
       "      <td>NaN</td>\n",
       "      <td>NaN</td>\n",
       "      <td>NaN</td>\n",
       "      <td>NaN</td>\n",
       "      <td>NaN</td>\n",
       "      <td>NaN</td>\n",
       "      <td>NaN</td>\n",
       "      <td>NaN</td>\n",
       "      <td>NaN</td>\n",
       "      <td>NaN</td>\n",
       "    </tr>\n",
       "    <tr>\n",
       "      <th>Nbhd</th>\n",
       "      <td>NaN</td>\n",
       "      <td>1.000000</td>\n",
       "      <td>-0.065831</td>\n",
       "      <td>0.195214</td>\n",
       "      <td>-0.237159</td>\n",
       "      <td>-0.159577</td>\n",
       "      <td>-0.187402</td>\n",
       "      <td>-0.025002</td>\n",
       "      <td>0.132277</td>\n",
       "      <td>0.071526</td>\n",
       "      <td>-0.079104</td>\n",
       "    </tr>\n",
       "    <tr>\n",
       "      <th>Stories</th>\n",
       "      <td>NaN</td>\n",
       "      <td>-0.065831</td>\n",
       "      <td>1.000000</td>\n",
       "      <td>0.085103</td>\n",
       "      <td>0.591975</td>\n",
       "      <td>0.554077</td>\n",
       "      <td>0.447865</td>\n",
       "      <td>0.407650</td>\n",
       "      <td>0.011806</td>\n",
       "      <td>0.029649</td>\n",
       "      <td>0.026594</td>\n",
       "    </tr>\n",
       "    <tr>\n",
       "      <th>Year_Built</th>\n",
       "      <td>NaN</td>\n",
       "      <td>0.195214</td>\n",
       "      <td>0.085103</td>\n",
       "      <td>1.000000</td>\n",
       "      <td>-0.157192</td>\n",
       "      <td>-0.354811</td>\n",
       "      <td>-0.268995</td>\n",
       "      <td>-0.027078</td>\n",
       "      <td>0.361670</td>\n",
       "      <td>0.252374</td>\n",
       "      <td>0.401872</td>\n",
       "    </tr>\n",
       "    <tr>\n",
       "      <th>Fin_sqft</th>\n",
       "      <td>NaN</td>\n",
       "      <td>-0.237159</td>\n",
       "      <td>0.591975</td>\n",
       "      <td>-0.157192</td>\n",
       "      <td>1.000000</td>\n",
       "      <td>0.606618</td>\n",
       "      <td>0.718126</td>\n",
       "      <td>0.653608</td>\n",
       "      <td>-0.096652</td>\n",
       "      <td>0.242373</td>\n",
       "      <td>0.266307</td>\n",
       "    </tr>\n",
       "    <tr>\n",
       "      <th>Units</th>\n",
       "      <td>NaN</td>\n",
       "      <td>-0.159577</td>\n",
       "      <td>0.554077</td>\n",
       "      <td>-0.354811</td>\n",
       "      <td>0.606618</td>\n",
       "      <td>1.000000</td>\n",
       "      <td>0.596610</td>\n",
       "      <td>0.563252</td>\n",
       "      <td>-0.390365</td>\n",
       "      <td>-0.120509</td>\n",
       "      <td>-0.259900</td>\n",
       "    </tr>\n",
       "    <tr>\n",
       "      <th>Bdrms</th>\n",
       "      <td>NaN</td>\n",
       "      <td>-0.187402</td>\n",
       "      <td>0.447865</td>\n",
       "      <td>-0.268995</td>\n",
       "      <td>0.718126</td>\n",
       "      <td>0.596610</td>\n",
       "      <td>1.000000</td>\n",
       "      <td>0.439114</td>\n",
       "      <td>-0.179628</td>\n",
       "      <td>0.063498</td>\n",
       "      <td>-0.022074</td>\n",
       "    </tr>\n",
       "    <tr>\n",
       "      <th>Fbath</th>\n",
       "      <td>NaN</td>\n",
       "      <td>-0.025002</td>\n",
       "      <td>0.407650</td>\n",
       "      <td>-0.027078</td>\n",
       "      <td>0.653608</td>\n",
       "      <td>0.563252</td>\n",
       "      <td>0.439114</td>\n",
       "      <td>1.000000</td>\n",
       "      <td>-0.285636</td>\n",
       "      <td>0.123100</td>\n",
       "      <td>0.129964</td>\n",
       "    </tr>\n",
       "    <tr>\n",
       "      <th>Hbath</th>\n",
       "      <td>NaN</td>\n",
       "      <td>0.132277</td>\n",
       "      <td>0.011806</td>\n",
       "      <td>0.361670</td>\n",
       "      <td>-0.096652</td>\n",
       "      <td>-0.390365</td>\n",
       "      <td>-0.179628</td>\n",
       "      <td>-0.285636</td>\n",
       "      <td>1.000000</td>\n",
       "      <td>0.244570</td>\n",
       "      <td>0.350793</td>\n",
       "    </tr>\n",
       "    <tr>\n",
       "      <th>Lotsize</th>\n",
       "      <td>NaN</td>\n",
       "      <td>0.071526</td>\n",
       "      <td>0.029649</td>\n",
       "      <td>0.252374</td>\n",
       "      <td>0.242373</td>\n",
       "      <td>-0.120509</td>\n",
       "      <td>0.063498</td>\n",
       "      <td>0.123100</td>\n",
       "      <td>0.244570</td>\n",
       "      <td>1.000000</td>\n",
       "      <td>0.462441</td>\n",
       "    </tr>\n",
       "    <tr>\n",
       "      <th>Sale_price</th>\n",
       "      <td>NaN</td>\n",
       "      <td>-0.079104</td>\n",
       "      <td>0.026594</td>\n",
       "      <td>0.401872</td>\n",
       "      <td>0.266307</td>\n",
       "      <td>-0.259900</td>\n",
       "      <td>-0.022074</td>\n",
       "      <td>0.129964</td>\n",
       "      <td>0.350793</td>\n",
       "      <td>0.462441</td>\n",
       "      <td>1.000000</td>\n",
       "    </tr>\n",
       "  </tbody>\n",
       "</table>\n",
       "</div>"
      ],
      "text/plain": [
       "            District      Nbhd   Stories  Year_Built  Fin_sqft     Units  \\\n",
       "District         NaN       NaN       NaN         NaN       NaN       NaN   \n",
       "Nbhd             NaN  1.000000 -0.065831    0.195214 -0.237159 -0.159577   \n",
       "Stories          NaN -0.065831  1.000000    0.085103  0.591975  0.554077   \n",
       "Year_Built       NaN  0.195214  0.085103    1.000000 -0.157192 -0.354811   \n",
       "Fin_sqft         NaN -0.237159  0.591975   -0.157192  1.000000  0.606618   \n",
       "Units            NaN -0.159577  0.554077   -0.354811  0.606618  1.000000   \n",
       "Bdrms            NaN -0.187402  0.447865   -0.268995  0.718126  0.596610   \n",
       "Fbath            NaN -0.025002  0.407650   -0.027078  0.653608  0.563252   \n",
       "Hbath            NaN  0.132277  0.011806    0.361670 -0.096652 -0.390365   \n",
       "Lotsize          NaN  0.071526  0.029649    0.252374  0.242373 -0.120509   \n",
       "Sale_price       NaN -0.079104  0.026594    0.401872  0.266307 -0.259900   \n",
       "\n",
       "               Bdrms     Fbath     Hbath   Lotsize  Sale_price  \n",
       "District         NaN       NaN       NaN       NaN         NaN  \n",
       "Nbhd       -0.187402 -0.025002  0.132277  0.071526   -0.079104  \n",
       "Stories     0.447865  0.407650  0.011806  0.029649    0.026594  \n",
       "Year_Built -0.268995 -0.027078  0.361670  0.252374    0.401872  \n",
       "Fin_sqft    0.718126  0.653608 -0.096652  0.242373    0.266307  \n",
       "Units       0.596610  0.563252 -0.390365 -0.120509   -0.259900  \n",
       "Bdrms       1.000000  0.439114 -0.179628  0.063498   -0.022074  \n",
       "Fbath       0.439114  1.000000 -0.285636  0.123100    0.129964  \n",
       "Hbath      -0.179628 -0.285636  1.000000  0.244570    0.350793  \n",
       "Lotsize     0.063498  0.123100  0.244570  1.000000    0.462441  \n",
       "Sale_price -0.022074  0.129964  0.350793  0.462441    1.000000  "
      ]
     },
     "execution_count": 62,
     "metadata": {},
     "output_type": "execute_result"
    }
   ],
   "source": [
    "housingdata15.corr()"
   ]
  },
  {
   "cell_type": "markdown",
   "id": "b575816a",
   "metadata": {},
   "source": [
    "Using Finished Sqft for District 15"
   ]
  },
  {
   "cell_type": "code",
   "execution_count": 63,
   "id": "05f19bf0",
   "metadata": {
    "scrolled": false
   },
   "outputs": [
    {
     "data": {
      "text/plain": [
       "0"
      ]
     },
     "execution_count": 63,
     "metadata": {},
     "output_type": "execute_result"
    }
   ],
   "source": [
    "housingdata15['Fin_sqft'].isnull().values.sum()"
   ]
  },
  {
   "cell_type": "code",
   "execution_count": 64,
   "id": "d944042e",
   "metadata": {},
   "outputs": [],
   "source": [
    "X = housingdata15.Fin_sqft.values.reshape(-1,1)\n",
    "y = housingdata15.Sale_price.values\n",
    "X_train, X_test, y_train, y_test = train_test_split(X, y,random_state = 0)"
   ]
  },
  {
   "cell_type": "code",
   "execution_count": 65,
   "id": "8a555504",
   "metadata": {},
   "outputs": [],
   "source": [
    "lin_reg_sqft15 = LinearRegression().fit(X_train, y_train)\n",
    "y_pred = lin_reg_sqft15.predict(X_test)"
   ]
  },
  {
   "cell_type": "code",
   "execution_count": 66,
   "id": "98dc75a6",
   "metadata": {
    "scrolled": true
   },
   "outputs": [
    {
     "name": "stdout",
     "output_type": "stream",
     "text": [
      "model coeff (b1): [20.13007464]\n",
      "model intercept (b0): 26506.438\n",
      "R-squared score (training): 0.064\n",
      "R-squared score (test): 0.079\n"
     ]
    }
   ],
   "source": [
    "print('model coeff (b1): {}'\n",
    "     .format(lin_reg_sqft15.coef_))\n",
    "print('model intercept (b0): {:.3f}'\n",
    "     .format(lin_reg_sqft15.intercept_))\n",
    "print('R-squared score (training): {:.3f}'\n",
    "     .format(lin_reg_sqft15.score(X_train, y_train)))\n",
    "print('R-squared score (test): {:.3f}'\n",
    "     .format(lin_reg_sqft15.score(X_test, y_test)))"
   ]
  },
  {
   "cell_type": "code",
   "execution_count": 67,
   "id": "26f41801",
   "metadata": {
    "scrolled": false
   },
   "outputs": [
    {
     "data": {
      "image/png": "[encoded data removed]",
      "text/plain": [
       "<Figure size 432x288 with 1 Axes>"
      ]
     },
     "metadata": {
      "needs_background": "light"
     },
     "output_type": "display_data"
    }
   ],
   "source": [
    "plt.scatter(X,y)\n",
    "plt.plot(X,lin_reg_sqft15.coef_*X+lin_reg_sqft15.intercept_,'-r')\n",
    "plt.xlabel('Finished sqft')\n",
    "plt.ylabel('Sale Price')\n",
    "plt.title('District 15')\n",
    "plt.show()"
   ]
  },
  {
   "cell_type": "markdown",
   "id": "74de4429",
   "metadata": {},
   "source": [
    "y = 26506.438 + 20.13007464x"
   ]
  },
  {
   "cell_type": "markdown",
   "id": "faa43611",
   "metadata": {},
   "source": [
    "D 15 using year built"
   ]
  },
  {
   "cell_type": "code",
   "execution_count": 68,
   "id": "ca39e5b9",
   "metadata": {
    "scrolled": false
   },
   "outputs": [
    {
     "data": {
      "text/plain": [
       "0"
      ]
     },
     "execution_count": 68,
     "metadata": {},
     "output_type": "execute_result"
    }
   ],
   "source": [
    "housingdata15['Year_Built'].isnull().values.sum()"
   ]
  },
  {
   "cell_type": "code",
   "execution_count": 69,
   "id": "4870a805",
   "metadata": {},
   "outputs": [],
   "source": [
    "X = housingdata15.Year_Built.values.reshape(-1,1)\n",
    "y = housingdata15.Sale_price.values\n",
    "X_train, X_test, y_train, y_test = train_test_split(X, y,random_state = 0)"
   ]
  },
  {
   "cell_type": "code",
   "execution_count": 70,
   "id": "5fbcf4a9",
   "metadata": {},
   "outputs": [],
   "source": [
    "lin_reg_yb15 = LinearRegression().fit(X_train, y_train)\n",
    "y_pred = lin_reg_yb15.predict(X_test)"
   ]
  },
  {
   "cell_type": "code",
   "execution_count": 71,
   "id": "d93c5da5",
   "metadata": {
    "scrolled": true
   },
   "outputs": [
    {
     "name": "stdout",
     "output_type": "stream",
     "text": [
      "model coeff (w): [578.01734662]\n",
      "model intercept (b): -1046543.919\n",
      "R-squared score (training): 0.160\n",
      "R-squared score (test): 0.157\n"
     ]
    }
   ],
   "source": [
    "print('model coeff (w): {}'\n",
    "     .format(lin_reg_yb15.coef_))\n",
    "print('model intercept (b): {:.3f}'\n",
    "     .format(lin_reg_yb15.intercept_))\n",
    "print('R-squared score (training): {:.3f}'\n",
    "     .format(lin_reg_yb15.score(X_train, y_train)))\n",
    "print('R-squared score (test): {:.3f}'\n",
    "     .format(lin_reg_yb15.score(X_test, y_test)))"
   ]
  },
  {
   "cell_type": "code",
   "execution_count": 72,
   "id": "a72fd891",
   "metadata": {
    "scrolled": false
   },
   "outputs": [
    {
     "data": {
      "image/png": "[encoded data removed]",
      "text/plain": [
       "<Figure size 432x288 with 1 Axes>"
      ]
     },
     "metadata": {
      "needs_background": "light"
     },
     "output_type": "display_data"
    }
   ],
   "source": [
    "plt.scatter(X,y)\n",
    "plt.plot(X,lin_reg_yb15.coef_*X+lin_reg_yb15.intercept_,'-r')\n",
    "plt.xlabel('Year_Built')\n",
    "plt.ylabel('Sale Price')\n",
    "plt.title('District 15')\n",
    "plt.show()"
   ]
  },
  {
   "cell_type": "markdown",
   "id": "b910cfb5",
   "metadata": {},
   "source": [
    "y = -1046543.919 + 578.01734662x"
   ]
  },
  {
   "cell_type": "markdown",
   "id": "8fca20a7",
   "metadata": {},
   "source": [
    "We can see from our models that homes in district 15 have less value based on location alone than district 3.\n",
    "After research into crime statistics in MKE it is clear that D 15 is a far more dangerous place to live than D 3. Which throws our regression off since homes that are larger are not always sold for a higher price since the area is more dangerous. Year built has the highest correlation to sale price so we can try and use that to get a better score on our regression."
   ]
  },
  {
   "cell_type": "markdown",
   "id": "b121aab8",
   "metadata": {},
   "source": [
    "# District 1"
   ]
  },
  {
   "cell_type": "code",
   "execution_count": 91,
   "id": "657264ac",
   "metadata": {
    "scrolled": false
   },
   "outputs": [
    {
     "data": {
      "text/plain": [
       "0"
      ]
     },
     "execution_count": 91,
     "metadata": {},
     "output_type": "execute_result"
    }
   ],
   "source": [
    "housingdata1['Fin_sqft'].isnull().values.sum()"
   ]
  },
  {
   "cell_type": "markdown",
   "id": "58b892b7",
   "metadata": {},
   "source": [
    "Using Finished Sqft for District 1"
   ]
  },
  {
   "cell_type": "code",
   "execution_count": 92,
   "id": "d736fb59",
   "metadata": {},
   "outputs": [],
   "source": [
    "X = housingdata1.Fin_sqft.values.reshape(-1,1)\n",
    "y = housingdata1.Sale_price.values\n",
    "X_train, X_test, y_train, y_test = train_test_split(X, y,random_state = 0)"
   ]
  },
  {
   "cell_type": "code",
   "execution_count": 93,
   "id": "930108f3",
   "metadata": {},
   "outputs": [],
   "source": [
    "lin_reg_sqft1 = LinearRegression().fit(X_train, y_train)\n",
    "y_pred = lin_reg_sqft1.predict(X_test)"
   ]
  },
  {
   "cell_type": "code",
   "execution_count": 94,
   "id": "6ff1ed47",
   "metadata": {
    "scrolled": true
   },
   "outputs": [
    {
     "name": "stdout",
     "output_type": "stream",
     "text": [
      "model coeff (w): [27.06828811]\n",
      "model intercept (b): 34953.710\n",
      "R-squared score (training): 0.118\n",
      "R-squared score (test): 0.158\n"
     ]
    }
   ],
   "source": [
    "print('model coeff (w): {}'\n",
    "     .format(lin_reg_sqft1.coef_))\n",
    "print('model intercept (b): {:.3f}'\n",
    "     .format(lin_reg_sqft1.intercept_))\n",
    "print('R-squared score (training): {:.3f}'\n",
    "     .format(lin_reg_sqft1.score(X_train, y_train)))\n",
    "print('R-squared score (test): {:.3f}'\n",
    "     .format(lin_reg_sqft1.score(X_test, y_test)))"
   ]
  },
  {
   "cell_type": "code",
   "execution_count": 95,
   "id": "b5e1efc5",
   "metadata": {
    "scrolled": false
   },
   "outputs": [
    {
     "data": {
      "image/png": "[encoded data removed]",
      "text/plain": [
       "<Figure size 432x288 with 1 Axes>"
      ]
     },
     "metadata": {
      "needs_background": "light"
     },
     "output_type": "display_data"
    }
   ],
   "source": [
    "plt.scatter(X,y)\n",
    "plt.plot(X,lin_reg_sqft1.coef_*X+lin_reg_sqft1.intercept_,'-r')\n",
    "plt.xlabel('Finished sqft')\n",
    "plt.ylabel('Sale Price')\n",
    "plt.title('District 1')\n",
    "plt.show()"
   ]
  },
  {
   "cell_type": "markdown",
   "id": "46dd9ef6",
   "metadata": {},
   "source": [
    "y = 34953.710 + 27.06828811x"
   ]
  },
  {
   "cell_type": "markdown",
   "id": "6ebe73f8",
   "metadata": {},
   "source": [
    "D 1 using year built"
   ]
  },
  {
   "cell_type": "code",
   "execution_count": 96,
   "id": "19c8b2d6",
   "metadata": {
    "scrolled": false
   },
   "outputs": [
    {
     "data": {
      "text/plain": [
       "0"
      ]
     },
     "execution_count": 96,
     "metadata": {},
     "output_type": "execute_result"
    }
   ],
   "source": [
    "housingdata1['Year_Built'].isnull().values.sum()"
   ]
  },
  {
   "cell_type": "code",
   "execution_count": 97,
   "id": "b72c8735",
   "metadata": {},
   "outputs": [],
   "source": [
    "X = housingdata1.Year_Built.values.reshape(-1,1)\n",
    "y = housingdata1.Sale_price.values\n",
    "X_train, X_test, y_train, y_test = train_test_split(X, y,random_state = 0)"
   ]
  },
  {
   "cell_type": "code",
   "execution_count": 98,
   "id": "ae79a9cd",
   "metadata": {},
   "outputs": [],
   "source": [
    "lin_reg_yb1 = LinearRegression().fit(X_train, y_train)\n",
    "y_pred = lin_reg_yb1.predict(X_test)"
   ]
  },
  {
   "cell_type": "code",
   "execution_count": 99,
   "id": "88332205",
   "metadata": {
    "scrolled": true
   },
   "outputs": [
    {
     "name": "stdout",
     "output_type": "stream",
     "text": [
      "model coeff (w): [606.96954445]\n",
      "model intercept (b): -1109623.636\n",
      "R-squared score (training): 0.071\n",
      "R-squared score (test): 0.103\n"
     ]
    }
   ],
   "source": [
    "print('model coeff (w): {}'\n",
    "     .format(lin_reg_yb1.coef_))\n",
    "print('model intercept (b): {:.3f}'\n",
    "     .format(lin_reg_yb1.intercept_))\n",
    "print('R-squared score (training): {:.3f}'\n",
    "     .format(lin_reg_yb1.score(X_train, y_train)))\n",
    "print('R-squared score (test): {:.3f}'\n",
    "     .format(lin_reg_yb1.score(X_test, y_test)))"
   ]
  },
  {
   "cell_type": "code",
   "execution_count": 100,
   "id": "ffc34c32",
   "metadata": {
    "scrolled": false
   },
   "outputs": [
    {
     "data": {
      "image/png": "[encoded data removed]",
      "text/plain": [
       "<Figure size 432x288 with 1 Axes>"
      ]
     },
     "metadata": {
      "needs_background": "light"
     },
     "output_type": "display_data"
    }
   ],
   "source": [
    "plt.scatter(X,y)\n",
    "plt.plot(X,lin_reg_sqft1.coef_*X+lin_reg_sqft1.intercept_,'-r')\n",
    "plt.xlabel('Year_Built')\n",
    "plt.ylabel('Sale Price')\n",
    "plt.title('District 1')\n",
    "plt.show()"
   ]
  },
  {
   "cell_type": "markdown",
   "id": "20043d5e",
   "metadata": {},
   "source": [
    "y = -1109623.636 + 606.97x"
   ]
  },
  {
   "cell_type": "code",
   "execution_count": null,
   "id": "26ff446d",
   "metadata": {},
   "outputs": [],
   "source": []
  }
 ],
 "metadata": {
  "kernelspec": {
   "display_name": "Python 3",
   "language": "python",
   "name": "python3"
  },
  "language_info": {
   "codemirror_mode": {
    "name": "ipython",
    "version": 3
   },
   "file_extension": ".py",
   "mimetype": "text/x-python",
   "name": "python",
   "nbconvert_exporter": "python",
   "pygments_lexer": "ipython3",
   "version": "3.9.2"
  }
 },
 "nbformat": 4,
 "nbformat_minor": 5
}
